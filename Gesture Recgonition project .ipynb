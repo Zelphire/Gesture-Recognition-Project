{
 "cells": [
  {
   "cell_type": "code",
   "execution_count": 1,
   "id": "cf0e463c",
   "metadata": {},
   "outputs": [],
   "source": [
    "import numpy as np\n",
    "import os\n",
    "\n",
    "import datetime\n",
    "import os\n",
    "import abc\n",
    "from sys import getsizeof\n",
    "from PIL import Image\n",
    "from skimage.transform import resize\n",
    "import imageio\n",
    "import cv2\n",
    "import matplotlib.pyplot as plt"
   ]
  },
  {
   "cell_type": "code",
   "execution_count": 2,
   "id": "a6fa2409",
   "metadata": {},
   "outputs": [],
   "source": [
    "np.random.seed(30)\n",
    "import random as rn\n",
    "rn.seed(30)\n",
    "from keras import backend as K\n",
    "import tensorflow as tf\n",
    "tf.random.set_seed(30)"
   ]
  },
  {
   "cell_type": "code",
   "execution_count": 3,
   "id": "31519ee4",
   "metadata": {},
   "outputs": [],
   "source": [
    "train_doc = np.random.permutation(open('/datasets/Project_data/train.csv').readlines())\n",
    "val_doc = np.random.permutation(open('/datasets/Project_data/val.csv').readlines())\n",
    "batch_size = 20 #experiment with the batch size\n",
    "project_folder='/datasets/Project_data'"
   ]
  },
  {
   "cell_type": "markdown",
   "id": "0a2667f4",
   "metadata": {},
   "source": [
    "## Generator\n",
    "This is one of the most important part of the code. The overall structure of the generator has been given. In the generator, you are going to preprocess the images as you have images of 2 different dimensions as well as create a batch of video frames. You have to experiment with `img_idx`, `y`,`z` and normalization such that you get high accuracy."
   ]
  },
  {
   "cell_type": "code",
   "execution_count": 4,
   "id": "b8713e37",
   "metadata": {},
   "outputs": [],
   "source": [
    "class ModelBuilder(metaclass= abc.ABCMeta):\n",
    "    \n",
    "    def initialize_path(self,project_folder):\n",
    "        self.train_doc = np.random.permutation(open(project_folder + '/' + 'train.csv').readlines())\n",
    "        self.val_doc = np.random.permutation(open(project_folder + '/' + 'val.csv').readlines())\n",
    "        self.train_path = project_folder + '/' + 'train'\n",
    "        self.val_path =  project_folder + '/' + 'val'\n",
    "        self.num_train_sequences = len(self.train_doc)\n",
    "        self.num_val_sequences = len(self.val_doc)\n",
    "        \n",
    "    def initialize_image_properties(self,image_height=100,image_width=100):\n",
    "        self.image_height=image_height\n",
    "        self.image_width=image_width\n",
    "        self.channels=3\n",
    "        self.num_classes=5\n",
    "        self.total_frames=30\n",
    "          \n",
    "    def initialize_hyperparams(self,frames_to_sample=30,batch_size=20,num_epochs=20):\n",
    "        self.frames_to_sample=frames_to_sample\n",
    "        self.batch_size=batch_size\n",
    "        self.num_epochs=num_epochs\n",
    "        \n",
    "        \n",
    "    def generator(self,source_path, folder_list, augment=False):\n",
    "        img_idx = np.round(np.linspace(0,self.total_frames-1,self.frames_to_sample)).astype(int)\n",
    "        batch_size=self.batch_size\n",
    "        while True:\n",
    "            t = np.random.permutation(folder_list)\n",
    "            num_batches = len(t)//batch_size\n",
    "        \n",
    "            for batch in range(num_batches): \n",
    "                batch_data, batch_labels= self.one_batch_data(source_path,t,batch,batch_size,img_idx,augment)\n",
    "                yield batch_data, batch_labels \n",
    "\n",
    "            remaining_seq=len(t)%batch_size\n",
    "        \n",
    "            if (remaining_seq != 0):\n",
    "                batch_data, batch_labels= self.one_batch_data(source_path,t,num_batches,batch_size,img_idx,augment,remaining_seq)\n",
    "                yield batch_data, batch_labels \n",
    "    \n",
    "    \n",
    "    def one_batch_data(self,source_path,t,batch,batch_size,img_idx,augment,remaining_seq=0):\n",
    "    \n",
    "        seq_len = remaining_seq if remaining_seq else batch_size\n",
    "    \n",
    "        batch_data = np.zeros((seq_len,len(img_idx),self.image_height,self.image_width,self.channels)) \n",
    "        batch_labels = np.zeros((seq_len,self.num_classes)) \n",
    "    \n",
    "        if (augment): batch_data_aug = np.zeros((seq_len,len(img_idx),self.image_height,self.image_width,self.channels))\n",
    "\n",
    "        \n",
    "        for folder in range(seq_len): \n",
    "            imgs = os.listdir(source_path+'/'+ t[folder + (batch*batch_size)].split(';')[0]) \n",
    "            for idx,item in enumerate(img_idx): \n",
    "                image = imageio.imread(source_path+'/'+ t[folder + (batch*batch_size)].strip().split(';')[0]+'/'+imgs[item]).astype(np.float32)\n",
    "                image_resized=resize(image,(self.image_height,self.image_width))\n",
    "            \n",
    "\n",
    "                batch_data[folder,idx,:,:,0] = (image_resized[:,:,0])/255\n",
    "                batch_data[folder,idx,:,:,1] = (image_resized[:,:,1])/255\n",
    "                batch_data[folder,idx,:,:,2] = (image_resized[:,:,2])/255\n",
    "            \n",
    "                if (augment):\n",
    "                    shifted = cv2.warpAffine(image, \n",
    "                                             np.float32([[1, 0, np.random.randint(-30,30)],[0, 1, np.random.randint(-30,30)]]), \n",
    "                                            (image.shape[1], image.shape[0]))\n",
    "                    \n",
    "                    gray = cv2.cvtColor(shifted,cv2.COLOR_BGR2GRAY)\n",
    "\n",
    "                    x0, y0 = np.argwhere(gray > 0).min(axis=0)\n",
    "                    x1, y1 = np.argwhere(gray > 0).max(axis=0) \n",
    "                    \n",
    "                    cropped=shifted[x0:x1,y0:y1,:]\n",
    "                    \n",
    "                    image_resized=resize(cropped,(self.image_height,self.image_width,3))\n",
    "                    \n",
    "                    #shifted = cv2.warpAffine(image_resized, \n",
    "                    #                        np.float32([[1, 0, np.random.randint(-3,3)],[0, 1, np.random.randint(-3,3)]]), \n",
    "                    #                        (image_resized.shape[1], image_resized.shape[0]))\n",
    "            \n",
    "                    batch_data_aug[folder,idx,:,:,0] = (image_resized[:,:,0])/255\n",
    "                    batch_data_aug[folder,idx,:,:,1] = (image_resized[:,:,1])/255\n",
    "                    batch_data_aug[folder,idx,:,:,2] = (image_resized[:,:,2])/255\n",
    "                \n",
    "            \n",
    "            batch_labels[folder, int(t[folder + (batch*batch_size)].strip().split(';')[2])] = 1\n",
    "            \n",
    "    \n",
    "        if (augment):\n",
    "            batch_data=np.concatenate([batch_data,batch_data_aug])\n",
    "            batch_labels=np.concatenate([batch_labels,batch_labels])\n",
    "\n",
    "        \n",
    "        return(batch_data,batch_labels)\n",
    "    \n",
    "    \n",
    "    def train_model(self, model, augment_data=False):\n",
    "        train_generator = self.generator(self.train_path, self.train_doc,augment=augment_data)\n",
    "        val_generator = self.generator(self.val_path, self.val_doc)\n",
    "\n",
    "        model_name = 'model_init' + '_' + str(datetime.datetime.now()).replace(' ','').replace(':','_') + '/'\n",
    "    \n",
    "        if not os.path.exists(model_name):\n",
    "            os.mkdir(model_name)\n",
    "        \n",
    "        filepath = model_name + 'model-{epoch:05d}-{loss:.5f}-{categorical_accuracy:.5f}-{val_loss:.5f}-{val_categorical_accuracy:.5f}.h5'\n",
    "\n",
    "        checkpoint = ModelCheckpoint(filepath, monitor='val_loss', verbose=1, save_best_only=False, save_weights_only=False, mode='auto', period=1)\n",
    "        LR = ReduceLROnPlateau(monitor='val_loss', factor=0.2, verbose=1, patience=4)\n",
    "        callbacks_list = [checkpoint, LR]\n",
    "\n",
    "        if (self.num_train_sequences%self.batch_size) == 0:\n",
    "            steps_per_epoch = int(self.num_train_sequences/self.batch_size)\n",
    "        else:\n",
    "            steps_per_epoch = (self.num_train_sequences//self.batch_size) + 1\n",
    "\n",
    "        if (self.num_val_sequences%self.batch_size) == 0:\n",
    "            validation_steps = int(self.num_val_sequences/self.batch_size)\n",
    "        else:\n",
    "            validation_steps = (self.num_val_sequences//self.batch_size) + 1\n",
    "    \n",
    "        history=model.fit_generator(train_generator, steps_per_epoch=steps_per_epoch, epochs=self.num_epochs, verbose=1, \n",
    "                            callbacks=callbacks_list, validation_data=val_generator, \n",
    "                            validation_steps=validation_steps, class_weight=None, workers=1, initial_epoch=0)\n",
    "        return history\n",
    "\n",
    "        \n",
    "    @abc.abstractmethod\n",
    "    def define_model(self):\n",
    "        pass"
   ]
  },
  {
   "cell_type": "markdown",
   "id": "3a9f4ed2",
   "metadata": {},
   "source": [
    "## Model\n",
    "Here you make the model using different functionalities that Keras provides. Remember to use `Conv3D` and `MaxPooling3D` and not `Conv2D` and `Maxpooling2D` for a 3D convolution model. You would want to use `TimeDistributed` while building a Conv2D + RNN model. Also remember that the last layer is the softmax. Design the network in such a way that the model is able to give good accuracy on the least number of parameters so that it can fit in the memory of the webcam."
   ]
  },
  {
   "cell_type": "code",
   "execution_count": 5,
   "id": "17a34680",
   "metadata": {},
   "outputs": [],
   "source": [
    "from keras.models import Sequential, Model\n",
    "from keras.layers import Dense, GRU, Flatten, TimeDistributed, Flatten, BatchNormalization, Activation\n",
    "from keras.layers.convolutional import Conv3D, MaxPooling3D, Conv2D, MaxPooling2D\n",
    "from keras.layers.recurrent import LSTM\n",
    "from keras.callbacks import ModelCheckpoint, ReduceLROnPlateau\n",
    "from keras import optimizers\n",
    "from keras.layers import Dropout\n",
    "from tensorflow.keras.optimizers import Adam"
   ]
  },
  {
   "cell_type": "code",
   "execution_count": 6,
   "id": "c9205436",
   "metadata": {},
   "outputs": [],
   "source": [
    "class ModelConv3D1(ModelBuilder):\n",
    "    \n",
    "    def define_model(self):\n",
    "\n",
    "        model = Sequential()\n",
    "        model.add(Conv3D(16, (3, 3, 3), padding='same',\n",
    "                 input_shape=(self.frames_to_sample,self.image_height,self.image_width,self.channels)))\n",
    "        model.add(Activation('relu'))\n",
    "        model.add(BatchNormalization())\n",
    "        model.add(MaxPooling3D(pool_size=(2, 2, 2)))\n",
    "\n",
    "        model.add(Conv3D(32, (2, 2, 2), padding='same'))\n",
    "        model.add(Activation('relu'))\n",
    "        model.add(BatchNormalization())\n",
    "        model.add(MaxPooling3D(pool_size=(2, 2, 2)))\n",
    "\n",
    "        model.add(Conv3D(64, (2, 2, 2), padding='same'))\n",
    "        model.add(Activation('relu'))\n",
    "        model.add(BatchNormalization())\n",
    "        model.add(MaxPooling3D(pool_size=(2, 2, 2)))\n",
    "\n",
    "        model.add(Conv3D(128, (2, 2, 2), padding='same'))\n",
    "        model.add(Activation('relu'))\n",
    "        model.add(BatchNormalization())\n",
    "        model.add(MaxPooling3D(pool_size=(2, 2, 2)))\n",
    "\n",
    "        model.add(Flatten())\n",
    "        model.add(Dense(128,activation='relu'))\n",
    "        model.add(BatchNormalization())\n",
    "        model.add(Dropout(0.5))\n",
    "\n",
    "        model.add(Dense(64,activation='relu'))\n",
    "        model.add(BatchNormalization())\n",
    "        model.add(Dropout(0.25))\n",
    "\n",
    "\n",
    "        model.add(Dense(self.num_classes,activation='softmax'))\n",
    "\n",
    "        optimiser = Adam()\n",
    "        #optimiser = 'sgd'\n",
    "        model.compile(optimizer=optimiser, loss='categorical_crossentropy', metrics=['categorical_accuracy'])\n",
    "        return model"
   ]
  },
  {
   "cell_type": "code",
   "execution_count": 7,
   "id": "00c13da5",
   "metadata": {},
   "outputs": [
    {
     "name": "stdout",
     "output_type": "stream",
     "text": [
      "Model: \"sequential\"\n",
      "_________________________________________________________________\n",
      " Layer (type)                Output Shape              Param #   \n",
      "=================================================================\n",
      " conv3d (Conv3D)             (None, 30, 160, 160, 16)  1312      \n",
      "                                                                 \n",
      " activation (Activation)     (None, 30, 160, 160, 16)  0         \n",
      "                                                                 \n",
      " batch_normalization (BatchN  (None, 30, 160, 160, 16)  64       \n",
      " ormalization)                                                   \n",
      "                                                                 \n",
      " max_pooling3d (MaxPooling3D  (None, 15, 80, 80, 16)   0         \n",
      " )                                                               \n",
      "                                                                 \n",
      " conv3d_1 (Conv3D)           (None, 15, 80, 80, 32)    4128      \n",
      "                                                                 \n",
      " activation_1 (Activation)   (None, 15, 80, 80, 32)    0         \n",
      "                                                                 \n",
      " batch_normalization_1 (Batc  (None, 15, 80, 80, 32)   128       \n",
      " hNormalization)                                                 \n",
      "                                                                 \n",
      " max_pooling3d_1 (MaxPooling  (None, 7, 40, 40, 32)    0         \n",
      " 3D)                                                             \n",
      "                                                                 \n",
      " conv3d_2 (Conv3D)           (None, 7, 40, 40, 64)     16448     \n",
      "                                                                 \n",
      " activation_2 (Activation)   (None, 7, 40, 40, 64)     0         \n",
      "                                                                 \n",
      " batch_normalization_2 (Batc  (None, 7, 40, 40, 64)    256       \n",
      " hNormalization)                                                 \n",
      "                                                                 \n",
      " max_pooling3d_2 (MaxPooling  (None, 3, 20, 20, 64)    0         \n",
      " 3D)                                                             \n",
      "                                                                 \n",
      " conv3d_3 (Conv3D)           (None, 3, 20, 20, 128)    65664     \n",
      "                                                                 \n",
      " activation_3 (Activation)   (None, 3, 20, 20, 128)    0         \n",
      "                                                                 \n",
      " batch_normalization_3 (Batc  (None, 3, 20, 20, 128)   512       \n",
      " hNormalization)                                                 \n",
      "                                                                 \n",
      " max_pooling3d_3 (MaxPooling  (None, 1, 10, 10, 128)   0         \n",
      " 3D)                                                             \n",
      "                                                                 \n",
      " flatten (Flatten)           (None, 12800)             0         \n",
      "                                                                 \n",
      " dense (Dense)               (None, 128)               1638528   \n",
      "                                                                 \n",
      " batch_normalization_4 (Batc  (None, 128)              512       \n",
      " hNormalization)                                                 \n",
      "                                                                 \n",
      " dropout (Dropout)           (None, 128)               0         \n",
      "                                                                 \n",
      " dense_1 (Dense)             (None, 64)                8256      \n",
      "                                                                 \n",
      " batch_normalization_5 (Batc  (None, 64)               256       \n",
      " hNormalization)                                                 \n",
      "                                                                 \n",
      " dropout_1 (Dropout)         (None, 64)                0         \n",
      "                                                                 \n",
      " dense_2 (Dense)             (None, 5)                 325       \n",
      "                                                                 \n",
      "=================================================================\n",
      "Total params: 1,736,389\n",
      "Trainable params: 1,735,525\n",
      "Non-trainable params: 864\n",
      "_________________________________________________________________\n"
     ]
    },
    {
     "name": "stderr",
     "output_type": "stream",
     "text": [
      "2024-01-03 04:35:27.089250: W tensorflow/core/common_runtime/gpu/gpu_bfc_allocator.cc:39] Overriding allow_growth setting because the TF_FORCE_GPU_ALLOW_GROWTH environment variable is set. Original config value was 0.\n",
      "2024-01-03 04:35:27.089311: I tensorflow/core/common_runtime/gpu/gpu_device.cc:1525] Created device /job:localhost/replica:0/task:0/device:GPU:0 with 14800 MB memory:  -> device: 0, name: Quadro RTX 5000, pci bus id: 0000:3f:00.0, compute capability: 7.5\n"
     ]
    }
   ],
   "source": [
    "conv_3d1=ModelConv3D1()\n",
    "conv_3d1.initialize_path(project_folder)\n",
    "conv_3d1.initialize_image_properties(image_height=160,image_width=160)\n",
    "conv_3d1.initialize_hyperparams(frames_to_sample=30,batch_size=40,num_epochs=1)\n",
    "conv_3d1_model=conv_3d1.define_model()\n",
    "conv_3d1_model.summary()"
   ]
  },
  {
   "cell_type": "code",
   "execution_count": 7,
   "id": "0ddd8e91",
   "metadata": {},
   "outputs": [],
   "source": [
    "\n",
    "def plot(history):\n",
    "    fig, axes = plt.subplots(nrows=1, ncols=2, figsize=(15,4))\n",
    "    axes[0].plot(history.history['loss'])   \n",
    "    axes[0].plot(history.history['val_loss'])\n",
    "    axes[0].legend(['loss','val_loss'])\n",
    "\n",
    "    axes[1].plot(history.history['categorical_accuracy'])   \n",
    "    axes[1].plot(history.history['val_categorical_accuracy'])\n",
    "    axes[1].legend(['categorical_accuracy','val_categorical_accuracy'])"
   ]
  },
  {
   "cell_type": "code",
   "execution_count": 9,
   "id": "593ff061",
   "metadata": {},
   "outputs": [
    {
     "data": {
      "text/plain": [
       "<matplotlib.image.AxesImage at 0x7f249bf73ca0>"
      ]
     },
     "execution_count": 9,
     "metadata": {},
     "output_type": "execute_result"
    },
    {
     "data": {
      "image/png": "[encoded data removed]",
      "text/plain": [
       "<Figure size 432x288 with 2 Axes>"
      ]
     },
     "metadata": {
      "needs_background": "light"
     },
     "output_type": "display_data"
    }
   ],
   "source": [
    "test_generator=ModelConv3D1()\n",
    "test_generator.initialize_path(project_folder)\n",
    "test_generator.initialize_image_properties(image_height=160,image_width=160)\n",
    "test_generator.initialize_hyperparams(frames_to_sample=30,batch_size=3,num_epochs=1)\n",
    "\n",
    "g=test_generator.generator(test_generator.val_path,test_generator.val_doc,augment=True)\n",
    "batch_data, batch_labels=next(g)\n",
    "fig, axes = plt.subplots(nrows=1, ncols=2)\n",
    "axes[0].imshow(batch_data[0,15,:,:,:])   \n",
    "axes[1].imshow(batch_data[3,15,:,:,:])   "
   ]
  },
  {
   "cell_type": "markdown",
   "id": "f7add914",
   "metadata": {},
   "source": [
    "## Experimenting with Image resolution, number of frames to use and batch_size"
   ]
  },
  {
   "cell_type": "code",
   "execution_count": 10,
   "id": "dc2ac6f1",
   "metadata": {},
   "outputs": [
    {
     "name": "stdout",
     "output_type": "stream",
     "text": [
      "WARNING:tensorflow:`period` argument is deprecated. Please use `save_freq` to specify the frequency in number of batches seen.\n"
     ]
    },
    {
     "name": "stderr",
     "output_type": "stream",
     "text": [
      "/tmp/ipykernel_332/2327497117.py:122: UserWarning: `Model.fit_generator` is deprecated and will be removed in a future version. Please use `Model.fit`, which supports generators.\n",
      "  history=model.fit_generator(train_generator, steps_per_epoch=steps_per_epoch, epochs=self.num_epochs, verbose=1,\n",
      "2024-01-02 10:36:48.675259: I tensorflow/stream_executor/cuda/cuda_dnn.cc:377] Loaded cuDNN version 8302\n"
     ]
    },
    {
     "name": "stdout",
     "output_type": "stream",
     "text": [
      "17/17 [==============================] - ETA: 0s - loss: 1.6450 - categorical_accuracy: 0.4087 \n",
      "Epoch 00001: saving model to model_init_2024-01-0210_36_31.528822/model-00001-1.64504-0.40875-3.16129-0.16000.h5\n",
      "17/17 [==============================] - 290s 18s/step - loss: 1.6450 - categorical_accuracy: 0.4087 - val_loss: 3.1613 - val_categorical_accuracy: 0.1600 - lr: 0.0010\n"
     ]
    },
    {
     "data": {
      "text/plain": [
       "<keras.callbacks.History at 0x7f24901beac0>"
      ]
     },
     "execution_count": 10,
     "metadata": {},
     "output_type": "execute_result"
    }
   ],
   "source": [
    "\n",
    "conv_3d1.train_model(conv_3d1_model)"
   ]
  },
  {
   "cell_type": "code",
   "execution_count": 11,
   "id": "7ebc1d23",
   "metadata": {},
   "outputs": [
    {
     "name": "stdout",
     "output_type": "stream",
     "text": [
      "Memory util is 3.662109524011612 Gigs\n"
     ]
    }
   ],
   "source": [
    "print(\"Memory util is {} Gigs\". format(getsizeof(np.zeros((40,16,30,160,160)))/(1024*1024*1024)))"
   ]
  },
  {
   "cell_type": "code",
   "execution_count": 12,
   "id": "9bf40489",
   "metadata": {},
   "outputs": [
    {
     "name": "stdout",
     "output_type": "stream",
     "text": [
      "Total Params: 1736389\n",
      "WARNING:tensorflow:`period` argument is deprecated. Please use `save_freq` to specify the frequency in number of batches seen.\n"
     ]
    },
    {
     "name": "stderr",
     "output_type": "stream",
     "text": [
      "/tmp/ipykernel_332/2327497117.py:122: UserWarning: `Model.fit_generator` is deprecated and will be removed in a future version. Please use `Model.fit`, which supports generators.\n",
      "  history=model.fit_generator(train_generator, steps_per_epoch=steps_per_epoch, epochs=self.num_epochs, verbose=1,\n"
     ]
    },
    {
     "name": "stdout",
     "output_type": "stream",
     "text": [
      "Epoch 1/3\n",
      "23/23 [==============================] - ETA: 0s - loss: 1.3541 - categorical_accuracy: 0.5023\n",
      "Epoch 00001: saving model to model_init_2024-01-0210_41_35.801377/model-00001-1.35408-0.50226-2.27320-0.20000.h5\n",
      "23/23 [==============================] - 155s 7s/step - loss: 1.3541 - categorical_accuracy: 0.5023 - val_loss: 2.2732 - val_categorical_accuracy: 0.2000 - lr: 0.0010\n",
      "Epoch 2/3\n",
      "23/23 [==============================] - ETA: 0s - loss: 0.8833 - categorical_accuracy: 0.6486\n",
      "Epoch 00002: saving model to model_init_2024-01-0210_41_35.801377/model-00002-0.88331-0.64857-3.95042-0.20000.h5\n",
      "23/23 [==============================] - 139s 6s/step - loss: 0.8833 - categorical_accuracy: 0.6486 - val_loss: 3.9504 - val_categorical_accuracy: 0.2000 - lr: 0.0010\n",
      "Epoch 3/3\n",
      "22/23 [===========================>..] - ETA: 5s - loss: 0.5849 - categorical_accuracy: 0.7818 \n",
      "Epoch 00003: saving model to model_init_2024-01-0210_41_35.801377/model-00003-0.58262-0.78281-6.00910-0.21000.h5\n",
      "23/23 [==============================] - 128s 6s/step - loss: 0.5826 - categorical_accuracy: 0.7828 - val_loss: 6.0091 - val_categorical_accuracy: 0.2100 - lr: 0.0010\n"
     ]
    },
    {
     "data": {
      "text/plain": [
       "<keras.callbacks.History at 0x7f24cce28490>"
      ]
     },
     "execution_count": 12,
     "metadata": {},
     "output_type": "execute_result"
    }
   ],
   "source": [
    "conv_3d1=ModelConv3D1()\n",
    "conv_3d1.initialize_path(project_folder)\n",
    "conv_3d1.initialize_image_properties(image_height=160,image_width=160)\n",
    "conv_3d1.initialize_hyperparams(frames_to_sample=16,batch_size=30,num_epochs=3)\n",
    "conv_3d1_model=conv_3d1.define_model()\n",
    "print(\"Total Params:\", conv_3d1_model.count_params())\n",
    "conv_3d1.train_model(conv_3d1_model)"
   ]
  },
  {
   "cell_type": "code",
   "execution_count": 13,
   "id": "e749c516",
   "metadata": {},
   "outputs": [
    {
     "name": "stdout",
     "output_type": "stream",
     "text": [
      "Total Params: 687813\n",
      "WARNING:tensorflow:`period` argument is deprecated. Please use `save_freq` to specify the frequency in number of batches seen.\n"
     ]
    },
    {
     "name": "stderr",
     "output_type": "stream",
     "text": [
      "/tmp/ipykernel_332/2327497117.py:122: UserWarning: `Model.fit_generator` is deprecated and will be removed in a future version. Please use `Model.fit`, which supports generators.\n",
      "  history=model.fit_generator(train_generator, steps_per_epoch=steps_per_epoch, epochs=self.num_epochs, verbose=1,\n"
     ]
    },
    {
     "name": "stdout",
     "output_type": "stream",
     "text": [
      "Epoch 1/2\n",
      "23/23 [==============================] - ETA: 0s - loss: 1.6773 - categorical_accuracy: 0.3710\n",
      "Epoch 00001: saving model to model_init_2024-01-0210_48_43.651458/model-00001-1.67730-0.37104-1.79979-0.22000.h5\n",
      "23/23 [==============================] - 241s 11s/step - loss: 1.6773 - categorical_accuracy: 0.3710 - val_loss: 1.7998 - val_categorical_accuracy: 0.2200 - lr: 0.0010\n",
      "Epoch 2/2\n",
      "23/23 [==============================] - ETA: 0s - loss: 1.1424 - categorical_accuracy: 0.5505\n",
      "Epoch 00002: saving model to model_init_2024-01-0210_48_43.651458/model-00002-1.14243-0.55053-2.61934-0.23000.h5\n",
      "23/23 [==============================] - 248s 11s/step - loss: 1.1424 - categorical_accuracy: 0.5505 - val_loss: 2.6193 - val_categorical_accuracy: 0.2300 - lr: 0.0010\n"
     ]
    },
    {
     "data": {
      "text/plain": [
       "<keras.callbacks.History at 0x7f24ccb28a90>"
      ]
     },
     "execution_count": 13,
     "metadata": {},
     "output_type": "execute_result"
    }
   ],
   "source": [
    "conv_3d1=ModelConv3D1()\n",
    "conv_3d1.initialize_path(project_folder)\n",
    "conv_3d1.initialize_image_properties(image_height=100,image_width=100)\n",
    "conv_3d1.initialize_hyperparams(frames_to_sample=30,batch_size=30,num_epochs=2)\n",
    "conv_3d1_model=conv_3d1.define_model()\n",
    "print(\"Total Params:\", conv_3d1_model.count_params())\n",
    "conv_3d1.train_model(conv_3d1_model)"
   ]
  },
  {
   "cell_type": "code",
   "execution_count": 14,
   "id": "dc63a4d0",
   "metadata": {},
   "outputs": [
    {
     "name": "stdout",
     "output_type": "stream",
     "text": [
      "Total Params: 687813\n",
      "WARNING:tensorflow:`period` argument is deprecated. Please use `save_freq` to specify the frequency in number of batches seen.\n"
     ]
    },
    {
     "name": "stderr",
     "output_type": "stream",
     "text": [
      "/tmp/ipykernel_332/2327497117.py:122: UserWarning: `Model.fit_generator` is deprecated and will be removed in a future version. Please use `Model.fit`, which supports generators.\n",
      "  history=model.fit_generator(train_generator, steps_per_epoch=steps_per_epoch, epochs=self.num_epochs, verbose=1,\n"
     ]
    },
    {
     "name": "stdout",
     "output_type": "stream",
     "text": [
      "Epoch 1/2\n",
      "12/12 [==============================] - ETA: 0s - loss: 1.6029 - categorical_accuracy: 0.4359 \n",
      "Epoch 00001: saving model to model_init_2024-01-0210_57_00.348821/model-00001-1.60293-0.43590-1.86777-0.16000.h5\n",
      "12/12 [==============================] - 219s 20s/step - loss: 1.6029 - categorical_accuracy: 0.4359 - val_loss: 1.8678 - val_categorical_accuracy: 0.1600 - lr: 0.0010\n",
      "Epoch 2/2\n",
      "12/12 [==============================] - ETA: 0s - loss: 1.1056 - categorical_accuracy: 0.5852 \n",
      "Epoch 00002: saving model to model_init_2024-01-0210_57_00.348821/model-00002-1.10558-0.58522-2.80637-0.15000.h5\n",
      "12/12 [==============================] - 207s 19s/step - loss: 1.1056 - categorical_accuracy: 0.5852 - val_loss: 2.8064 - val_categorical_accuracy: 0.1500 - lr: 0.0010\n"
     ]
    },
    {
     "data": {
      "text/plain": [
       "<keras.callbacks.History at 0x7f247f41f490>"
      ]
     },
     "execution_count": 14,
     "metadata": {},
     "output_type": "execute_result"
    }
   ],
   "source": [
    "conv_3d1=ModelConv3D1()\n",
    "conv_3d1.initialize_path(project_folder)\n",
    "conv_3d1.initialize_image_properties(image_height=100,image_width=100)\n",
    "conv_3d1.initialize_hyperparams(frames_to_sample=30,batch_size=60,num_epochs=2)\n",
    "conv_3d1_model=conv_3d1.define_model()\n",
    "print(\"Total Params:\", conv_3d1_model.count_params())\n",
    "conv_3d1.train_model(conv_3d1_model)"
   ]
  },
  {
   "cell_type": "code",
   "execution_count": 15,
   "id": "439d1fb4",
   "metadata": {},
   "outputs": [
    {
     "name": "stdout",
     "output_type": "stream",
     "text": [
      "Total Params: 687813\n",
      "WARNING:tensorflow:`period` argument is deprecated. Please use `save_freq` to specify the frequency in number of batches seen.\n"
     ]
    },
    {
     "name": "stderr",
     "output_type": "stream",
     "text": [
      "/tmp/ipykernel_332/2327497117.py:122: UserWarning: `Model.fit_generator` is deprecated and will be removed in a future version. Please use `Model.fit`, which supports generators.\n",
      "  history=model.fit_generator(train_generator, steps_per_epoch=steps_per_epoch, epochs=self.num_epochs, verbose=1,\n"
     ]
    },
    {
     "name": "stdout",
     "output_type": "stream",
     "text": [
      "Epoch 1/2\n",
      "12/12 [==============================] - ETA: 0s - loss: 1.4757 - categorical_accuracy: 0.4495\n",
      "Epoch 00001: saving model to model_init_2024-01-0211_04_21.956092/model-00001-1.47572-0.44947-1.60291-0.19000.h5\n",
      "12/12 [==============================] - 109s 10s/step - loss: 1.4757 - categorical_accuracy: 0.4495 - val_loss: 1.6029 - val_categorical_accuracy: 0.1900 - lr: 0.0010\n",
      "Epoch 2/2\n",
      "12/12 [==============================] - ETA: 0s - loss: 1.1483 - categorical_accuracy: 0.5535\n",
      "Epoch 00002: saving model to model_init_2024-01-0211_04_21.956092/model-00002-1.14834-0.55354-1.75248-0.25000.h5\n",
      "12/12 [==============================] - 113s 10s/step - loss: 1.1483 - categorical_accuracy: 0.5535 - val_loss: 1.7525 - val_categorical_accuracy: 0.2500 - lr: 0.0010\n"
     ]
    },
    {
     "data": {
      "text/plain": [
       "<keras.callbacks.History at 0x7f247eab5d60>"
      ]
     },
     "execution_count": 15,
     "metadata": {},
     "output_type": "execute_result"
    }
   ],
   "source": [
    "conv_3d1=ModelConv3D1()\n",
    "conv_3d1.initialize_path(project_folder)\n",
    "conv_3d1.initialize_image_properties(image_height=100,image_width=100)\n",
    "conv_3d1.initialize_hyperparams(frames_to_sample=16,batch_size=60,num_epochs=2)\n",
    "conv_3d1_model=conv_3d1.define_model()\n",
    "print(\"Total Params:\", conv_3d1_model.count_params())\n",
    "conv_3d1.train_model(conv_3d1_model)\n"
   ]
  },
  {
   "cell_type": "code",
   "execution_count": 16,
   "id": "4628014b",
   "metadata": {},
   "outputs": [
    {
     "name": "stdout",
     "output_type": "stream",
     "text": [
      "Total Params: 687813\n",
      "WARNING:tensorflow:`period` argument is deprecated. Please use `save_freq` to specify the frequency in number of batches seen.\n"
     ]
    },
    {
     "name": "stderr",
     "output_type": "stream",
     "text": [
      "/tmp/ipykernel_332/2327497117.py:122: UserWarning: `Model.fit_generator` is deprecated and will be removed in a future version. Please use `Model.fit`, which supports generators.\n",
      "  history=model.fit_generator(train_generator, steps_per_epoch=steps_per_epoch, epochs=self.num_epochs, verbose=1,\n"
     ]
    },
    {
     "name": "stdout",
     "output_type": "stream",
     "text": [
      "Epoch 1/2\n",
      "9/9 [==============================] - ETA: 0s - loss: 1.6396 - categorical_accuracy: 0.4072 \n",
      "Epoch 00001: saving model to model_init_2024-01-0211_08_11.980223/model-00001-1.63960-0.40724-1.68958-0.16000.h5\n",
      "9/9 [==============================] - 121s 15s/step - loss: 1.6396 - categorical_accuracy: 0.4072 - val_loss: 1.6896 - val_categorical_accuracy: 0.1600 - lr: 0.0010\n",
      "Epoch 2/2\n",
      "9/9 [==============================] - ETA: 0s - loss: 1.0623 - categorical_accuracy: 0.6018 \n",
      "Epoch 00002: saving model to model_init_2024-01-0211_08_11.980223/model-00002-1.06232-0.60181-2.31829-0.17000.h5\n",
      "9/9 [==============================] - 125s 16s/step - loss: 1.0623 - categorical_accuracy: 0.6018 - val_loss: 2.3183 - val_categorical_accuracy: 0.1700 - lr: 0.0010\n"
     ]
    },
    {
     "data": {
      "text/plain": [
       "<keras.callbacks.History at 0x7f247f6286d0>"
      ]
     },
     "execution_count": 16,
     "metadata": {},
     "output_type": "execute_result"
    }
   ],
   "source": [
    "conv_3d1=ModelConv3D1()\n",
    "conv_3d1.initialize_path(project_folder)\n",
    "conv_3d1.initialize_image_properties(image_height=100,image_width=100)\n",
    "conv_3d1.initialize_hyperparams(frames_to_sample=16,batch_size=80,num_epochs=2)\n",
    "conv_3d1_model=conv_3d1.define_model()\n",
    "print(\"Total Params:\", conv_3d1_model.count_params())\n",
    "conv_3d1.train_model(conv_3d1_model)"
   ]
  },
  {
   "cell_type": "code",
   "execution_count": 17,
   "id": "acead83a",
   "metadata": {},
   "outputs": [
    {
     "name": "stdout",
     "output_type": "stream",
     "text": [
      "Total Params: 1736389\n",
      "WARNING:tensorflow:`period` argument is deprecated. Please use `save_freq` to specify the frequency in number of batches seen.\n"
     ]
    },
    {
     "name": "stderr",
     "output_type": "stream",
     "text": [
      "/tmp/ipykernel_332/2327497117.py:122: UserWarning: `Model.fit_generator` is deprecated and will be removed in a future version. Please use `Model.fit`, which supports generators.\n",
      "  history=model.fit_generator(train_generator, steps_per_epoch=steps_per_epoch, epochs=self.num_epochs, verbose=1,\n"
     ]
    },
    {
     "name": "stdout",
     "output_type": "stream",
     "text": [
      "Epoch 1/2\n",
      "45/45 [==============================] - ETA: 0s - loss: 1.4860 - categorical_accuracy: 0.4103\n",
      "Epoch 00001: saving model to model_init_2024-01-0211_12_27.878290/model-00001-1.48599-0.41026-6.87263-0.20000.h5\n",
      "45/45 [==============================] - 286s 6s/step - loss: 1.4860 - categorical_accuracy: 0.4103 - val_loss: 6.8726 - val_categorical_accuracy: 0.2000 - lr: 0.0010\n",
      "Epoch 2/2\n",
      "45/45 [==============================] - ETA: 0s - loss: 0.9327 - categorical_accuracy: 0.6516\n",
      "Epoch 00002: saving model to model_init_2024-01-0211_12_27.878290/model-00002-0.93265-0.65158-10.50255-0.23000.h5\n",
      "45/45 [==============================] - 254s 6s/step - loss: 0.9327 - categorical_accuracy: 0.6516 - val_loss: 10.5025 - val_categorical_accuracy: 0.2300 - lr: 0.0010\n"
     ]
    },
    {
     "data": {
      "text/plain": [
       "<keras.callbacks.History at 0x7f247dcf0b80>"
      ]
     },
     "execution_count": 17,
     "metadata": {},
     "output_type": "execute_result"
    }
   ],
   "source": [
    "conv_3d1=ModelConv3D1()\n",
    "conv_3d1.initialize_path(project_folder)\n",
    "conv_3d1.initialize_image_properties(image_height=160,image_width=160)\n",
    "conv_3d1.initialize_hyperparams(frames_to_sample=30,batch_size=15,num_epochs=2)\n",
    "conv_3d1_model=conv_3d1.define_model()\n",
    "print(\"Total Params:\", conv_3d1_model.count_params())\n",
    "conv_3d1.train_model(conv_3d1_model)"
   ]
  },
  {
   "cell_type": "code",
   "execution_count": 18,
   "id": "8bd823d0",
   "metadata": {},
   "outputs": [
    {
     "name": "stdout",
     "output_type": "stream",
     "text": [
      "Total Params: 1736389\n",
      "WARNING:tensorflow:`period` argument is deprecated. Please use `save_freq` to specify the frequency in number of batches seen.\n"
     ]
    },
    {
     "name": "stderr",
     "output_type": "stream",
     "text": [
      "/tmp/ipykernel_332/2327497117.py:122: UserWarning: `Model.fit_generator` is deprecated and will be removed in a future version. Please use `Model.fit`, which supports generators.\n",
      "  history=model.fit_generator(train_generator, steps_per_epoch=steps_per_epoch, epochs=self.num_epochs, verbose=1,\n"
     ]
    },
    {
     "name": "stdout",
     "output_type": "stream",
     "text": [
      "Epoch 1/2\n",
      "45/45 [==============================] - ETA: 0s - loss: 1.4726 - categorical_accuracy: 0.4525\n",
      "Epoch 00001: saving model to model_init_2024-01-0211_21_33.012702/model-00001-1.47259-0.45249-3.37671-0.21000.h5\n",
      "45/45 [==============================] - 132s 3s/step - loss: 1.4726 - categorical_accuracy: 0.4525 - val_loss: 3.3767 - val_categorical_accuracy: 0.2100 - lr: 0.0010\n",
      "Epoch 2/2\n",
      "45/45 [==============================] - ETA: 0s - loss: 0.8593 - categorical_accuracy: 0.6621\n",
      "Epoch 00002: saving model to model_init_2024-01-0211_21_33.012702/model-00002-0.85930-0.66214-5.76670-0.23000.h5\n",
      "45/45 [==============================] - 130s 3s/step - loss: 0.8593 - categorical_accuracy: 0.6621 - val_loss: 5.7667 - val_categorical_accuracy: 0.2300 - lr: 0.0010\n"
     ]
    },
    {
     "data": {
      "text/plain": [
       "<keras.callbacks.History at 0x7f247d99b4c0>"
      ]
     },
     "execution_count": 18,
     "metadata": {},
     "output_type": "execute_result"
    }
   ],
   "source": [
    "conv_3d1=ModelConv3D1()\n",
    "conv_3d1.initialize_path(project_folder)\n",
    "conv_3d1.initialize_image_properties(image_height=160,image_width=160)\n",
    "conv_3d1.initialize_hyperparams(frames_to_sample=16,batch_size=15,num_epochs=2)\n",
    "conv_3d1_model=conv_3d1.define_model()\n",
    "print(\"Total Params:\", conv_3d1_model.count_params())\n",
    "conv_3d1.train_model(conv_3d1_model)"
   ]
  },
  {
   "cell_type": "code",
   "execution_count": 19,
   "id": "e25a49bc",
   "metadata": {},
   "outputs": [
    {
     "name": "stdout",
     "output_type": "stream",
     "text": [
      "Total Params: 687813\n",
      "WARNING:tensorflow:`period` argument is deprecated. Please use `save_freq` to specify the frequency in number of batches seen.\n"
     ]
    },
    {
     "name": "stderr",
     "output_type": "stream",
     "text": [
      "/tmp/ipykernel_332/2327497117.py:122: UserWarning: `Model.fit_generator` is deprecated and will be removed in a future version. Please use `Model.fit`, which supports generators.\n",
      "  history=model.fit_generator(train_generator, steps_per_epoch=steps_per_epoch, epochs=self.num_epochs, verbose=1,\n"
     ]
    },
    {
     "name": "stdout",
     "output_type": "stream",
     "text": [
      "Epoch 1/2\n",
      "45/45 [==============================] - ETA: 0s - loss: 1.5656 - categorical_accuracy: 0.4148\n",
      "Epoch 00001: saving model to model_init_2024-01-0211_25_57.744736/model-00001-1.56558-0.41478-4.09292-0.16000.h5\n",
      "45/45 [==============================] - 97s 2s/step - loss: 1.5656 - categorical_accuracy: 0.4148 - val_loss: 4.0929 - val_categorical_accuracy: 0.1600 - lr: 0.0010\n",
      "Epoch 2/2\n",
      "45/45 [==============================] - ETA: 0s - loss: 0.9089 - categorical_accuracy: 0.6365\n",
      "Epoch 00002: saving model to model_init_2024-01-0211_25_57.744736/model-00002-0.90892-0.63650-5.03713-0.24000.h5\n",
      "45/45 [==============================] - 95s 2s/step - loss: 0.9089 - categorical_accuracy: 0.6365 - val_loss: 5.0371 - val_categorical_accuracy: 0.2400 - lr: 0.0010\n"
     ]
    },
    {
     "data": {
      "text/plain": [
       "<keras.callbacks.History at 0x7f247d65c5b0>"
      ]
     },
     "execution_count": 19,
     "metadata": {},
     "output_type": "execute_result"
    }
   ],
   "source": [
    "conv_3d1=ModelConv3D1()\n",
    "conv_3d1.initialize_path(project_folder)\n",
    "conv_3d1.initialize_image_properties(image_height=100,image_width=100)\n",
    "conv_3d1.initialize_hyperparams(frames_to_sample=16,batch_size=15,num_epochs=2)\n",
    "conv_3d1_model=conv_3d1.define_model()\n",
    "print(\"Total Params:\", conv_3d1_model.count_params())\n",
    "conv_3d1.train_model(conv_3d1_model)"
   ]
  },
  {
   "cell_type": "code",
   "execution_count": 20,
   "id": "86a13f7b",
   "metadata": {},
   "outputs": [
    {
     "name": "stdout",
     "output_type": "stream",
     "text": [
      "Total Params: 687813\n",
      "WARNING:tensorflow:`period` argument is deprecated. Please use `save_freq` to specify the frequency in number of batches seen.\n"
     ]
    },
    {
     "name": "stderr",
     "output_type": "stream",
     "text": [
      "/tmp/ipykernel_332/2327497117.py:122: UserWarning: `Model.fit_generator` is deprecated and will be removed in a future version. Please use `Model.fit`, which supports generators.\n",
      "  history=model.fit_generator(train_generator, steps_per_epoch=steps_per_epoch, epochs=self.num_epochs, verbose=1,\n"
     ]
    },
    {
     "name": "stdout",
     "output_type": "stream",
     "text": [
      "Epoch 1/2\n",
      "67/67 [==============================] - ETA: 0s - loss: 1.6380 - categorical_accuracy: 0.4057\n",
      "Epoch 00001: saving model to model_init_2024-01-0211_29_10.730507/model-00001-1.63804-0.40573-4.64048-0.16000.h5\n",
      "67/67 [==============================] - 97s 1s/step - loss: 1.6380 - categorical_accuracy: 0.4057 - val_loss: 4.6405 - val_categorical_accuracy: 0.1600 - lr: 0.0010\n",
      "Epoch 2/2\n",
      "67/67 [==============================] - ETA: 0s - loss: 1.1122 - categorical_accuracy: 0.5897\n",
      "Epoch 00002: saving model to model_init_2024-01-0211_29_10.730507/model-00002-1.11218-0.58974-9.27172-0.16000.h5\n",
      "67/67 [==============================] - 103s 2s/step - loss: 1.1122 - categorical_accuracy: 0.5897 - val_loss: 9.2717 - val_categorical_accuracy: 0.1600 - lr: 0.0010\n"
     ]
    },
    {
     "data": {
      "text/plain": [
       "<keras.callbacks.History at 0x7f247c9005b0>"
      ]
     },
     "execution_count": 20,
     "metadata": {},
     "output_type": "execute_result"
    }
   ],
   "source": [
    "conv_3d1=ModelConv3D1()\n",
    "conv_3d1.initialize_path(project_folder)\n",
    "conv_3d1.initialize_image_properties(image_height=100,image_width=100)\n",
    "conv_3d1.initialize_hyperparams(frames_to_sample=16,batch_size=10,num_epochs=2)\n",
    "conv_3d1_model=conv_3d1.define_model()\n",
    "print(\"Total Params:\", conv_3d1_model.count_params())\n",
    "conv_3d1.train_model(conv_3d1_model)"
   ]
  },
  {
   "cell_type": "code",
   "execution_count": 21,
   "id": "25d1aec0",
   "metadata": {},
   "outputs": [
    {
     "name": "stdout",
     "output_type": "stream",
     "text": [
      "Total Params: 687813\n",
      "WARNING:tensorflow:`period` argument is deprecated. Please use `save_freq` to specify the frequency in number of batches seen.\n"
     ]
    },
    {
     "name": "stderr",
     "output_type": "stream",
     "text": [
      "/tmp/ipykernel_332/2327497117.py:122: UserWarning: `Model.fit_generator` is deprecated and will be removed in a future version. Please use `Model.fit`, which supports generators.\n",
      "  history=model.fit_generator(train_generator, steps_per_epoch=steps_per_epoch, epochs=self.num_epochs, verbose=1,\n"
     ]
    },
    {
     "name": "stdout",
     "output_type": "stream",
     "text": [
      "Epoch 1/2\n",
      "67/67 [==============================] - ETA: 0s - loss: 1.5241 - categorical_accuracy: 0.4465\n",
      "Epoch 00001: saving model to model_init_2024-01-0211_32_32.950229/model-00001-1.52413-0.44646-2.66208-0.16000.h5\n",
      "67/67 [==============================] - 229s 3s/step - loss: 1.5241 - categorical_accuracy: 0.4465 - val_loss: 2.6621 - val_categorical_accuracy: 0.1600 - lr: 0.0010\n",
      "Epoch 2/2\n",
      "67/67 [==============================] - ETA: 0s - loss: 1.2924 - categorical_accuracy: 0.4902\n",
      "Epoch 00002: saving model to model_init_2024-01-0211_32_32.950229/model-00002-1.29238-0.49020-3.67617-0.22000.h5\n",
      "67/67 [==============================] - 230s 3s/step - loss: 1.2924 - categorical_accuracy: 0.4902 - val_loss: 3.6762 - val_categorical_accuracy: 0.2200 - lr: 0.0010\n"
     ]
    },
    {
     "data": {
      "text/plain": [
       "<keras.callbacks.History at 0x7f247d9d7b20>"
      ]
     },
     "execution_count": 21,
     "metadata": {},
     "output_type": "execute_result"
    }
   ],
   "source": [
    "conv_3d1=ModelConv3D1()\n",
    "conv_3d1.initialize_path(project_folder)\n",
    "conv_3d1.initialize_image_properties(image_height=100,image_width=100)\n",
    "conv_3d1.initialize_hyperparams(frames_to_sample=30,batch_size=10,num_epochs=2)\n",
    "conv_3d1_model=conv_3d1.define_model()\n",
    "print(\"Total Params:\", conv_3d1_model.count_params())\n",
    "conv_3d1.train_model(conv_3d1_model)"
   ]
  },
  {
   "cell_type": "code",
   "execution_count": 22,
   "id": "b975a7e0",
   "metadata": {},
   "outputs": [
    {
     "name": "stdout",
     "output_type": "stream",
     "text": [
      "Total Params: 1736389\n",
      "WARNING:tensorflow:`period` argument is deprecated. Please use `save_freq` to specify the frequency in number of batches seen.\n"
     ]
    },
    {
     "name": "stderr",
     "output_type": "stream",
     "text": [
      "/tmp/ipykernel_332/2327497117.py:122: UserWarning: `Model.fit_generator` is deprecated and will be removed in a future version. Please use `Model.fit`, which supports generators.\n",
      "  history=model.fit_generator(train_generator, steps_per_epoch=steps_per_epoch, epochs=self.num_epochs, verbose=1,\n"
     ]
    },
    {
     "name": "stdout",
     "output_type": "stream",
     "text": [
      "Epoch 1/2\n",
      "67/67 [==============================] - ETA: 0s - loss: 1.4986 - categorical_accuracy: 0.4721\n",
      "Epoch 00001: saving model to model_init_2024-01-0211_40_14.483383/model-00001-1.49864-0.47210-3.00185-0.31000.h5\n",
      "67/67 [==============================] - 117s 2s/step - loss: 1.4986 - categorical_accuracy: 0.4721 - val_loss: 3.0019 - val_categorical_accuracy: 0.3100 - lr: 0.0010\n",
      "Epoch 2/2\n",
      "67/67 [==============================] - ETA: 0s - loss: 0.9114 - categorical_accuracy: 0.6410\n",
      "Epoch 00002: saving model to model_init_2024-01-0211_40_14.483383/model-00002-0.91141-0.64103-5.74297-0.21000.h5\n",
      "67/67 [==============================] - 105s 2s/step - loss: 0.9114 - categorical_accuracy: 0.6410 - val_loss: 5.7430 - val_categorical_accuracy: 0.2100 - lr: 0.0010\n"
     ]
    },
    {
     "data": {
      "text/plain": [
       "<keras.callbacks.History at 0x7f247c2f1970>"
      ]
     },
     "execution_count": 22,
     "metadata": {},
     "output_type": "execute_result"
    }
   ],
   "source": [
    "conv_3d1=ModelConv3D1()\n",
    "conv_3d1.initialize_path(project_folder)\n",
    "conv_3d1.initialize_image_properties(image_height=160,image_width=160)\n",
    "conv_3d1.initialize_hyperparams(frames_to_sample=16,batch_size=10,num_epochs=2)\n",
    "conv_3d1_model=conv_3d1.define_model()\n",
    "print(\"Total Params:\", conv_3d1_model.count_params())\n",
    "conv_3d1.train_model(conv_3d1_model)"
   ]
  },
  {
   "cell_type": "markdown",
   "id": "19532c36",
   "metadata": {},
   "source": [
    "## Model 1 - Base Model - No Data Augmentation Batch Size 40 and Epoch 15"
   ]
  },
  {
   "cell_type": "code",
   "execution_count": 23,
   "id": "c463be35",
   "metadata": {},
   "outputs": [],
   "source": [
    "class ModelConv3D1(ModelBuilder):\n",
    "    \n",
    "    def define_model(self,filtersize=(3,3,3),dense_neurons=64,dropout=0.25):\n",
    "\n",
    "        model = Sequential()\n",
    "        model.add(Conv3D(16, filtersize, padding='same',\n",
    "                 input_shape=(self.frames_to_sample,self.image_height,self.image_width,self.channels)))\n",
    "        model.add(Activation('relu'))\n",
    "        model.add(BatchNormalization())\n",
    "        model.add(MaxPooling3D(pool_size=(2, 2, 2)))\n",
    "\n",
    "        model.add(Conv3D(32, filtersize, padding='same'))\n",
    "        model.add(Activation('relu'))\n",
    "        model.add(BatchNormalization())\n",
    "        model.add(MaxPooling3D(pool_size=(2, 2, 2)))\n",
    "\n",
    "        model.add(Conv3D(64, filtersize, padding='same'))\n",
    "        model.add(Activation('relu'))\n",
    "        model.add(BatchNormalization())\n",
    "        model.add(MaxPooling3D(pool_size=(2, 2, 2)))\n",
    "\n",
    "        model.add(Conv3D(128, filtersize, padding='same'))\n",
    "        model.add(Activation('relu'))\n",
    "        model.add(BatchNormalization())\n",
    "        model.add(MaxPooling3D(pool_size=(2, 2, 2)))\n",
    "\n",
    "        model.add(Flatten())\n",
    "        model.add(Dense(dense_neurons,activation='relu'))\n",
    "        model.add(BatchNormalization())\n",
    "        model.add(Dropout(dropout))\n",
    "\n",
    "        model.add(Dense(dense_neurons,activation='relu'))\n",
    "        model.add(BatchNormalization())\n",
    "        model.add(Dropout(dropout))\n",
    "\n",
    "\n",
    "        model.add(Dense(self.num_classes,activation='softmax'))\n",
    "\n",
    "        optimiser = Adam()\n",
    "        model.compile(optimizer=optimiser, loss='categorical_crossentropy', metrics=['categorical_accuracy'])\n",
    "        return model"
   ]
  },
  {
   "cell_type": "code",
   "execution_count": 24,
   "id": "db57fb3b",
   "metadata": {},
   "outputs": [
    {
     "name": "stdout",
     "output_type": "stream",
     "text": [
      "Model: \"sequential_12\"\n",
      "_________________________________________________________________\n",
      " Layer (type)                Output Shape              Param #   \n",
      "=================================================================\n",
      " conv3d_48 (Conv3D)          (None, 20, 160, 160, 16)  1312      \n",
      "                                                                 \n",
      " activation_48 (Activation)  (None, 20, 160, 160, 16)  0         \n",
      "                                                                 \n",
      " batch_normalization_72 (Bat  (None, 20, 160, 160, 16)  64       \n",
      " chNormalization)                                                \n",
      "                                                                 \n",
      " max_pooling3d_48 (MaxPoolin  (None, 10, 80, 80, 16)   0         \n",
      " g3D)                                                            \n",
      "                                                                 \n",
      " conv3d_49 (Conv3D)          (None, 10, 80, 80, 32)    13856     \n",
      "                                                                 \n",
      " activation_49 (Activation)  (None, 10, 80, 80, 32)    0         \n",
      "                                                                 \n",
      " batch_normalization_73 (Bat  (None, 10, 80, 80, 32)   128       \n",
      " chNormalization)                                                \n",
      "                                                                 \n",
      " max_pooling3d_49 (MaxPoolin  (None, 5, 40, 40, 32)    0         \n",
      " g3D)                                                            \n",
      "                                                                 \n",
      " conv3d_50 (Conv3D)          (None, 5, 40, 40, 64)     55360     \n",
      "                                                                 \n",
      " activation_50 (Activation)  (None, 5, 40, 40, 64)     0         \n",
      "                                                                 \n",
      " batch_normalization_74 (Bat  (None, 5, 40, 40, 64)    256       \n",
      " chNormalization)                                                \n",
      "                                                                 \n",
      " max_pooling3d_50 (MaxPoolin  (None, 2, 20, 20, 64)    0         \n",
      " g3D)                                                            \n",
      "                                                                 \n",
      " conv3d_51 (Conv3D)          (None, 2, 20, 20, 128)    221312    \n",
      "                                                                 \n",
      " activation_51 (Activation)  (None, 2, 20, 20, 128)    0         \n",
      "                                                                 \n",
      " batch_normalization_75 (Bat  (None, 2, 20, 20, 128)   512       \n",
      " chNormalization)                                                \n",
      "                                                                 \n",
      " max_pooling3d_51 (MaxPoolin  (None, 1, 10, 10, 128)   0         \n",
      " g3D)                                                            \n",
      "                                                                 \n",
      " flatten_12 (Flatten)        (None, 12800)             0         \n",
      "                                                                 \n",
      " dense_36 (Dense)            (None, 64)                819264    \n",
      "                                                                 \n",
      " batch_normalization_76 (Bat  (None, 64)               256       \n",
      " chNormalization)                                                \n",
      "                                                                 \n",
      " dropout_24 (Dropout)        (None, 64)                0         \n",
      "                                                                 \n",
      " dense_37 (Dense)            (None, 64)                4160      \n",
      "                                                                 \n",
      " batch_normalization_77 (Bat  (None, 64)               256       \n",
      " chNormalization)                                                \n",
      "                                                                 \n",
      " dropout_25 (Dropout)        (None, 64)                0         \n",
      "                                                                 \n",
      " dense_38 (Dense)            (None, 5)                 325       \n",
      "                                                                 \n",
      "=================================================================\n",
      "Total params: 1,117,061\n",
      "Trainable params: 1,116,325\n",
      "Non-trainable params: 736\n",
      "_________________________________________________________________\n"
     ]
    }
   ],
   "source": [
    "conv_3d1=ModelConv3D1()\n",
    "conv_3d1.initialize_path(project_folder)\n",
    "conv_3d1.initialize_image_properties(image_height=160,image_width=160)\n",
    "conv_3d1.initialize_hyperparams(frames_to_sample=20,batch_size=40,num_epochs=15)\n",
    "conv_3d1_model=conv_3d1.define_model()\n",
    "conv_3d1_model.summary()"
   ]
  },
  {
   "cell_type": "code",
   "execution_count": 25,
   "id": "264c9af5",
   "metadata": {},
   "outputs": [
    {
     "name": "stdout",
     "output_type": "stream",
     "text": [
      "Total Params: 1117061\n",
      "WARNING:tensorflow:`period` argument is deprecated. Please use `save_freq` to specify the frequency in number of batches seen.\n"
     ]
    },
    {
     "name": "stderr",
     "output_type": "stream",
     "text": [
      "/tmp/ipykernel_332/2327497117.py:122: UserWarning: `Model.fit_generator` is deprecated and will be removed in a future version. Please use `Model.fit`, which supports generators.\n",
      "  history=model.fit_generator(train_generator, steps_per_epoch=steps_per_epoch, epochs=self.num_epochs, verbose=1,\n"
     ]
    },
    {
     "name": "stdout",
     "output_type": "stream",
     "text": [
      "Epoch 1/15\n",
      "17/17 [==============================] - ETA: 0s - loss: 1.5390 - categorical_accuracy: 0.4404\n",
      "Epoch 00001: saving model to model_init_2024-01-0211_43_57.978118/model-00001-1.53902-0.44042-1.69067-0.27000.h5\n",
      "17/17 [==============================] - 144s 9s/step - loss: 1.5390 - categorical_accuracy: 0.4404 - val_loss: 1.6907 - val_categorical_accuracy: 0.2700 - lr: 0.0010\n",
      "Epoch 2/15\n",
      "17/17 [==============================] - ETA: 0s - loss: 0.9645 - categorical_accuracy: 0.6259\n",
      "Epoch 00002: saving model to model_init_2024-01-0211_43_57.978118/model-00002-0.96448-0.62594-2.70608-0.18000.h5\n",
      "17/17 [==============================] - 143s 9s/step - loss: 0.9645 - categorical_accuracy: 0.6259 - val_loss: 2.7061 - val_categorical_accuracy: 0.1800 - lr: 0.0010\n",
      "Epoch 3/15\n",
      "17/17 [==============================] - ETA: 0s - loss: 0.6289 - categorical_accuracy: 0.7526\n",
      "Epoch 00003: saving model to model_init_2024-01-0211_43_57.978118/model-00003-0.62892-0.75264-2.97670-0.22000.h5\n",
      "17/17 [==============================] - 137s 9s/step - loss: 0.6289 - categorical_accuracy: 0.7526 - val_loss: 2.9767 - val_categorical_accuracy: 0.2200 - lr: 0.0010\n",
      "Epoch 4/15\n",
      "17/17 [==============================] - ETA: 0s - loss: 0.4547 - categorical_accuracy: 0.8356\n",
      "Epoch 00004: saving model to model_init_2024-01-0211_43_57.978118/model-00004-0.45472-0.83560-3.03732-0.21000.h5\n",
      "17/17 [==============================] - 141s 9s/step - loss: 0.4547 - categorical_accuracy: 0.8356 - val_loss: 3.0373 - val_categorical_accuracy: 0.2100 - lr: 0.0010\n",
      "Epoch 5/15\n",
      "17/17 [==============================] - ETA: 0s - loss: 0.3136 - categorical_accuracy: 0.8989\n",
      "Epoch 00005: saving model to model_init_2024-01-0211_43_57.978118/model-00005-0.31356-0.89894-3.49553-0.21000.h5\n",
      "\n",
      "Epoch 00005: ReduceLROnPlateau reducing learning rate to 0.00020000000949949026.\n",
      "17/17 [==============================] - 145s 9s/step - loss: 0.3136 - categorical_accuracy: 0.8989 - val_loss: 3.4955 - val_categorical_accuracy: 0.2100 - lr: 0.0010\n",
      "Epoch 6/15\n",
      "17/17 [==============================] - ETA: 0s - loss: 0.1906 - categorical_accuracy: 0.9487\n",
      "Epoch 00006: saving model to model_init_2024-01-0211_43_57.978118/model-00006-0.19057-0.94872-3.94830-0.19000.h5\n",
      "17/17 [==============================] - 152s 9s/step - loss: 0.1906 - categorical_accuracy: 0.9487 - val_loss: 3.9483 - val_categorical_accuracy: 0.1900 - lr: 2.0000e-04\n",
      "Epoch 7/15\n",
      "17/17 [==============================] - ETA: 0s - loss: 0.1746 - categorical_accuracy: 0.9563\n",
      "Epoch 00007: saving model to model_init_2024-01-0211_43_57.978118/model-00007-0.17461-0.95626-3.99399-0.21000.h5\n",
      "17/17 [==============================] - 157s 10s/step - loss: 0.1746 - categorical_accuracy: 0.9563 - val_loss: 3.9940 - val_categorical_accuracy: 0.2100 - lr: 2.0000e-04\n",
      "Epoch 8/15\n",
      "17/17 [==============================] - ETA: 0s - loss: 0.1434 - categorical_accuracy: 0.9653\n",
      "Epoch 00008: saving model to model_init_2024-01-0211_43_57.978118/model-00008-0.14340-0.96531-4.13610-0.24000.h5\n",
      "17/17 [==============================] - 143s 9s/step - loss: 0.1434 - categorical_accuracy: 0.9653 - val_loss: 4.1361 - val_categorical_accuracy: 0.2400 - lr: 2.0000e-04\n",
      "Epoch 9/15\n",
      "17/17 [==============================] - ETA: 0s - loss: 0.1253 - categorical_accuracy: 0.9744\n",
      "Epoch 00009: saving model to model_init_2024-01-0211_43_57.978118/model-00009-0.12526-0.97436-3.98372-0.26000.h5\n",
      "\n",
      "Epoch 00009: ReduceLROnPlateau reducing learning rate to 4.0000001899898055e-05.\n",
      "17/17 [==============================] - 137s 9s/step - loss: 0.1253 - categorical_accuracy: 0.9744 - val_loss: 3.9837 - val_categorical_accuracy: 0.2600 - lr: 2.0000e-04\n",
      "Epoch 10/15\n",
      "17/17 [==============================] - ETA: 0s - loss: 0.1167 - categorical_accuracy: 0.9759\n",
      "Epoch 00010: saving model to model_init_2024-01-0211_43_57.978118/model-00010-0.11665-0.97587-4.17257-0.21000.h5\n",
      "17/17 [==============================] - 140s 9s/step - loss: 0.1167 - categorical_accuracy: 0.9759 - val_loss: 4.1726 - val_categorical_accuracy: 0.2100 - lr: 4.0000e-05\n",
      "Epoch 11/15\n",
      "17/17 [==============================] - ETA: 0s - loss: 0.0979 - categorical_accuracy: 0.9894\n",
      "Epoch 00011: saving model to model_init_2024-01-0211_43_57.978118/model-00011-0.09789-0.98944-3.76914-0.28000.h5\n",
      "17/17 [==============================] - 133s 8s/step - loss: 0.0979 - categorical_accuracy: 0.9894 - val_loss: 3.7691 - val_categorical_accuracy: 0.2800 - lr: 4.0000e-05\n",
      "Epoch 12/15\n",
      "17/17 [==============================] - ETA: 0s - loss: 0.1073 - categorical_accuracy: 0.9849\n",
      "Epoch 00012: saving model to model_init_2024-01-0211_43_57.978118/model-00012-0.10731-0.98492-4.30987-0.20000.h5\n",
      "17/17 [==============================] - 141s 9s/step - loss: 0.1073 - categorical_accuracy: 0.9849 - val_loss: 4.3099 - val_categorical_accuracy: 0.2000 - lr: 4.0000e-05\n",
      "Epoch 13/15\n",
      "17/17 [==============================] - ETA: 0s - loss: 0.0999 - categorical_accuracy: 0.9834\n",
      "Epoch 00013: saving model to model_init_2024-01-0211_43_57.978118/model-00013-0.09985-0.98341-3.87016-0.22000.h5\n",
      "\n",
      "Epoch 00013: ReduceLROnPlateau reducing learning rate to 8.000000525498762e-06.\n",
      "17/17 [==============================] - 148s 9s/step - loss: 0.0999 - categorical_accuracy: 0.9834 - val_loss: 3.8702 - val_categorical_accuracy: 0.2200 - lr: 4.0000e-05\n",
      "Epoch 14/15\n",
      "17/17 [==============================] - ETA: 0s - loss: 0.1091 - categorical_accuracy: 0.9759\n",
      "Epoch 00014: saving model to model_init_2024-01-0211_43_57.978118/model-00014-0.10906-0.97587-3.62291-0.23000.h5\n",
      "17/17 [==============================] - 150s 9s/step - loss: 0.1091 - categorical_accuracy: 0.9759 - val_loss: 3.6229 - val_categorical_accuracy: 0.2300 - lr: 8.0000e-06\n",
      "Epoch 15/15\n",
      "17/17 [==============================] - ETA: 0s - loss: 0.0981 - categorical_accuracy: 0.9849\n",
      "Epoch 00015: saving model to model_init_2024-01-0211_43_57.978118/model-00015-0.09807-0.98492-3.61717-0.26000.h5\n",
      "17/17 [==============================] - 137s 9s/step - loss: 0.0981 - categorical_accuracy: 0.9849 - val_loss: 3.6172 - val_categorical_accuracy: 0.2600 - lr: 8.0000e-06\n"
     ]
    }
   ],
   "source": [
    "print(\"Total Params:\", conv_3d1_model.count_params())\n",
    "history_model1 = conv_3d1.train_model(conv_3d1_model)"
   ]
  },
  {
   "cell_type": "code",
   "execution_count": 26,
   "id": "065acaa7",
   "metadata": {},
   "outputs": [
    {
     "data": {
      "image/png": "[encoded data removed]",
      "text/plain": [
       "<Figure size 1080x288 with 2 Axes>"
      ]
     },
     "metadata": {
      "needs_background": "light"
     },
     "output_type": "display_data"
    }
   ],
   "source": [
    "\n",
    "plot(history_model1)"
   ]
  },
  {
   "cell_type": "markdown",
   "id": "75ebed63",
   "metadata": {},
   "source": [
    "## Model 2\n"
   ]
  },
  {
   "cell_type": "code",
   "execution_count": 27,
   "id": "587a8797",
   "metadata": {},
   "outputs": [
    {
     "name": "stdout",
     "output_type": "stream",
     "text": [
      "Model: \"sequential_13\"\n",
      "_________________________________________________________________\n",
      " Layer (type)                Output Shape              Param #   \n",
      "=================================================================\n",
      " conv3d_52 (Conv3D)          (None, 20, 160, 160, 16)  1312      \n",
      "                                                                 \n",
      " activation_52 (Activation)  (None, 20, 160, 160, 16)  0         \n",
      "                                                                 \n",
      " batch_normalization_78 (Bat  (None, 20, 160, 160, 16)  64       \n",
      " chNormalization)                                                \n",
      "                                                                 \n",
      " max_pooling3d_52 (MaxPoolin  (None, 10, 80, 80, 16)   0         \n",
      " g3D)                                                            \n",
      "                                                                 \n",
      " conv3d_53 (Conv3D)          (None, 10, 80, 80, 32)    13856     \n",
      "                                                                 \n",
      " activation_53 (Activation)  (None, 10, 80, 80, 32)    0         \n",
      "                                                                 \n",
      " batch_normalization_79 (Bat  (None, 10, 80, 80, 32)   128       \n",
      " chNormalization)                                                \n",
      "                                                                 \n",
      " max_pooling3d_53 (MaxPoolin  (None, 5, 40, 40, 32)    0         \n",
      " g3D)                                                            \n",
      "                                                                 \n",
      " conv3d_54 (Conv3D)          (None, 5, 40, 40, 64)     55360     \n",
      "                                                                 \n",
      " activation_54 (Activation)  (None, 5, 40, 40, 64)     0         \n",
      "                                                                 \n",
      " batch_normalization_80 (Bat  (None, 5, 40, 40, 64)    256       \n",
      " chNormalization)                                                \n",
      "                                                                 \n",
      " max_pooling3d_54 (MaxPoolin  (None, 2, 20, 20, 64)    0         \n",
      " g3D)                                                            \n",
      "                                                                 \n",
      " conv3d_55 (Conv3D)          (None, 2, 20, 20, 128)    221312    \n",
      "                                                                 \n",
      " activation_55 (Activation)  (None, 2, 20, 20, 128)    0         \n",
      "                                                                 \n",
      " batch_normalization_81 (Bat  (None, 2, 20, 20, 128)   512       \n",
      " chNormalization)                                                \n",
      "                                                                 \n",
      " max_pooling3d_55 (MaxPoolin  (None, 1, 10, 10, 128)   0         \n",
      " g3D)                                                            \n",
      "                                                                 \n",
      " flatten_13 (Flatten)        (None, 12800)             0         \n",
      "                                                                 \n",
      " dense_39 (Dense)            (None, 256)               3277056   \n",
      "                                                                 \n",
      " batch_normalization_82 (Bat  (None, 256)              1024      \n",
      " chNormalization)                                                \n",
      "                                                                 \n",
      " dropout_26 (Dropout)        (None, 256)               0         \n",
      "                                                                 \n",
      " dense_40 (Dense)            (None, 256)               65792     \n",
      "                                                                 \n",
      " batch_normalization_83 (Bat  (None, 256)              1024      \n",
      " chNormalization)                                                \n",
      "                                                                 \n",
      " dropout_27 (Dropout)        (None, 256)               0         \n",
      "                                                                 \n",
      " dense_41 (Dense)            (None, 5)                 1285      \n",
      "                                                                 \n",
      "=================================================================\n",
      "Total params: 3,638,981\n",
      "Trainable params: 3,637,477\n",
      "Non-trainable params: 1,504\n",
      "_________________________________________________________________\n"
     ]
    }
   ],
   "source": [
    "## augment data\n",
    "\n",
    "conv_3d2=ModelConv3D1()\n",
    "conv_3d2.initialize_path(project_folder)\n",
    "conv_3d2.initialize_image_properties(image_height=160,image_width=160)\n",
    "conv_3d2.initialize_hyperparams(frames_to_sample=20,batch_size=20,num_epochs=25)\n",
    "conv_3d2_model=conv_3d2.define_model(dense_neurons=256,dropout=0.5)\n",
    "conv_3d2_model.summary()"
   ]
  },
  {
   "cell_type": "code",
   "execution_count": 28,
   "id": "66d4d895",
   "metadata": {},
   "outputs": [
    {
     "name": "stdout",
     "output_type": "stream",
     "text": [
      "Total Params: 3638981\n",
      "WARNING:tensorflow:`period` argument is deprecated. Please use `save_freq` to specify the frequency in number of batches seen.\n"
     ]
    },
    {
     "name": "stderr",
     "output_type": "stream",
     "text": [
      "/tmp/ipykernel_332/2327497117.py:122: UserWarning: `Model.fit_generator` is deprecated and will be removed in a future version. Please use `Model.fit`, which supports generators.\n",
      "  history=model.fit_generator(train_generator, steps_per_epoch=steps_per_epoch, epochs=self.num_epochs, verbose=1,\n"
     ]
    },
    {
     "name": "stdout",
     "output_type": "stream",
     "text": [
      "Epoch 1/25\n",
      "34/34 [==============================] - ETA: 0s - loss: 1.8318 - categorical_accuracy: 0.4050\n",
      "Epoch 00001: saving model to model_init_2024-01-0212_19_52.801279/model-00001-1.83184-0.40498-2.14066-0.28000.h5\n",
      "34/34 [==============================] - 262s 8s/step - loss: 1.8318 - categorical_accuracy: 0.4050 - val_loss: 2.1407 - val_categorical_accuracy: 0.2800 - lr: 0.0010\n",
      "Epoch 2/25\n",
      "34/34 [==============================] - ETA: 0s - loss: 1.4008 - categorical_accuracy: 0.5166\n",
      "Epoch 00002: saving model to model_init_2024-01-0212_19_52.801279/model-00002-1.40085-0.51659-3.74704-0.22000.h5\n",
      "34/34 [==============================] - 274s 8s/step - loss: 1.4008 - categorical_accuracy: 0.5166 - val_loss: 3.7470 - val_categorical_accuracy: 0.2200 - lr: 0.0010\n",
      "Epoch 3/25\n",
      "34/34 [==============================] - ETA: 0s - loss: 0.9919 - categorical_accuracy: 0.6493\n",
      "Epoch 00003: saving model to model_init_2024-01-0212_19_52.801279/model-00003-0.99195-0.64932-5.77215-0.27000.h5\n",
      "34/34 [==============================] - 276s 8s/step - loss: 0.9919 - categorical_accuracy: 0.6493 - val_loss: 5.7722 - val_categorical_accuracy: 0.2700 - lr: 0.0010\n",
      "Epoch 4/25\n",
      "34/34 [==============================] - ETA: 0s - loss: 0.8103 - categorical_accuracy: 0.7187\n",
      "Epoch 00004: saving model to model_init_2024-01-0212_19_52.801279/model-00004-0.81032-0.71870-7.23577-0.22000.h5\n",
      "34/34 [==============================] - 285s 9s/step - loss: 0.8103 - categorical_accuracy: 0.7187 - val_loss: 7.2358 - val_categorical_accuracy: 0.2200 - lr: 0.0010\n",
      "Epoch 5/25\n",
      "34/34 [==============================] - ETA: 0s - loss: 0.6638 - categorical_accuracy: 0.7647\n",
      "Epoch 00005: saving model to model_init_2024-01-0212_19_52.801279/model-00005-0.66375-0.76471-6.10926-0.26000.h5\n",
      "\n",
      "Epoch 00005: ReduceLROnPlateau reducing learning rate to 0.00020000000949949026.\n",
      "34/34 [==============================] - 292s 9s/step - loss: 0.6638 - categorical_accuracy: 0.7647 - val_loss: 6.1093 - val_categorical_accuracy: 0.2600 - lr: 0.0010\n",
      "Epoch 6/25\n",
      "34/34 [==============================] - ETA: 0s - loss: 0.4993 - categorical_accuracy: 0.8160\n",
      "Epoch 00006: saving model to model_init_2024-01-0212_19_52.801279/model-00006-0.49927-0.81599-6.03203-0.30000.h5\n",
      "34/34 [==============================] - 290s 9s/step - loss: 0.4993 - categorical_accuracy: 0.8160 - val_loss: 6.0320 - val_categorical_accuracy: 0.3000 - lr: 2.0000e-04\n",
      "Epoch 7/25\n",
      "34/34 [==============================] - ETA: 0s - loss: 0.4138 - categorical_accuracy: 0.8379\n",
      "Epoch 00007: saving model to model_init_2024-01-0212_19_52.801279/model-00007-0.41384-0.83786-6.09365-0.34000.h5\n",
      "34/34 [==============================] - 277s 8s/step - loss: 0.4138 - categorical_accuracy: 0.8379 - val_loss: 6.0936 - val_categorical_accuracy: 0.3400 - lr: 2.0000e-04\n",
      "Epoch 8/25\n",
      "34/34 [==============================] - ETA: 0s - loss: 0.4202 - categorical_accuracy: 0.8326\n",
      "Epoch 00008: saving model to model_init_2024-01-0212_19_52.801279/model-00008-0.42023-0.83258-6.44811-0.28000.h5\n",
      "34/34 [==============================] - 279s 8s/step - loss: 0.4202 - categorical_accuracy: 0.8326 - val_loss: 6.4481 - val_categorical_accuracy: 0.2800 - lr: 2.0000e-04\n",
      "Epoch 9/25\n",
      "34/34 [==============================] - ETA: 0s - loss: 0.4060 - categorical_accuracy: 0.8514\n",
      "Epoch 00009: saving model to model_init_2024-01-0212_19_52.801279/model-00009-0.40598-0.85143-5.23070-0.25000.h5\n",
      "\n",
      "Epoch 00009: ReduceLROnPlateau reducing learning rate to 4.0000001899898055e-05.\n",
      "34/34 [==============================] - 275s 8s/step - loss: 0.4060 - categorical_accuracy: 0.8514 - val_loss: 5.2307 - val_categorical_accuracy: 0.2500 - lr: 2.0000e-04\n",
      "Epoch 10/25\n",
      "34/34 [==============================] - ETA: 0s - loss: 0.3659 - categorical_accuracy: 0.8544\n",
      "Epoch 00010: saving model to model_init_2024-01-0212_19_52.801279/model-00010-0.36592-0.85445-4.13425-0.29000.h5\n",
      "34/34 [==============================] - 273s 8s/step - loss: 0.3659 - categorical_accuracy: 0.8544 - val_loss: 4.1343 - val_categorical_accuracy: 0.2900 - lr: 4.0000e-05\n",
      "Epoch 11/25\n",
      "34/34 [==============================] - ETA: 0s - loss: 0.3521 - categorical_accuracy: 0.8771\n",
      "Epoch 00011: saving model to model_init_2024-01-0212_19_52.801279/model-00011-0.35207-0.87707-3.94487-0.26000.h5\n",
      "34/34 [==============================] - 260s 8s/step - loss: 0.3521 - categorical_accuracy: 0.8771 - val_loss: 3.9449 - val_categorical_accuracy: 0.2600 - lr: 4.0000e-05\n",
      "Epoch 12/25\n",
      "34/34 [==============================] - ETA: 0s - loss: 0.3088 - categorical_accuracy: 0.8967\n",
      "Epoch 00012: saving model to model_init_2024-01-0212_19_52.801279/model-00012-0.30876-0.89668-3.03150-0.38000.h5\n",
      "34/34 [==============================] - 262s 8s/step - loss: 0.3088 - categorical_accuracy: 0.8967 - val_loss: 3.0315 - val_categorical_accuracy: 0.3800 - lr: 4.0000e-05\n",
      "Epoch 13/25\n",
      "34/34 [==============================] - ETA: 0s - loss: 0.2921 - categorical_accuracy: 0.8906\n",
      "Epoch 00013: saving model to model_init_2024-01-0212_19_52.801279/model-00013-0.29206-0.89065-3.01914-0.32000.h5\n",
      "\n",
      "Epoch 00013: ReduceLROnPlateau reducing learning rate to 8.000000525498762e-06.\n",
      "34/34 [==============================] - 259s 8s/step - loss: 0.2921 - categorical_accuracy: 0.8906 - val_loss: 3.0191 - val_categorical_accuracy: 0.3200 - lr: 4.0000e-05\n",
      "Epoch 14/25\n",
      "34/34 [==============================] - ETA: 0s - loss: 0.3212 - categorical_accuracy: 0.8982\n",
      "Epoch 00014: saving model to model_init_2024-01-0212_19_52.801279/model-00014-0.32120-0.89819-2.37082-0.43000.h5\n",
      "34/34 [==============================] - 258s 8s/step - loss: 0.3212 - categorical_accuracy: 0.8982 - val_loss: 2.3708 - val_categorical_accuracy: 0.4300 - lr: 8.0000e-06\n",
      "Epoch 15/25\n",
      "34/34 [==============================] - ETA: 0s - loss: 0.3061 - categorical_accuracy: 0.8929\n",
      "Epoch 00015: saving model to model_init_2024-01-0212_19_52.801279/model-00015-0.30611-0.89291-1.81209-0.48000.h5\n",
      "34/34 [==============================] - 264s 8s/step - loss: 0.3061 - categorical_accuracy: 0.8929 - val_loss: 1.8121 - val_categorical_accuracy: 0.4800 - lr: 8.0000e-06\n",
      "Epoch 16/25\n",
      "34/34 [==============================] - ETA: 0s - loss: 0.2939 - categorical_accuracy: 0.8876\n",
      "Epoch 00016: saving model to model_init_2024-01-0212_19_52.801279/model-00016-0.29385-0.88763-1.25068-0.58000.h5\n",
      "34/34 [==============================] - 277s 8s/step - loss: 0.2939 - categorical_accuracy: 0.8876 - val_loss: 1.2507 - val_categorical_accuracy: 0.5800 - lr: 8.0000e-06\n",
      "Epoch 17/25\n",
      "34/34 [==============================] - ETA: 0s - loss: 0.3184 - categorical_accuracy: 0.8884\n",
      "Epoch 00017: saving model to model_init_2024-01-0212_19_52.801279/model-00017-0.31837-0.88839-0.86314-0.71000.h5\n",
      "34/34 [==============================] - 307s 9s/step - loss: 0.3184 - categorical_accuracy: 0.8884 - val_loss: 0.8631 - val_categorical_accuracy: 0.7100 - lr: 8.0000e-06\n",
      "Epoch 18/25\n",
      "34/34 [==============================] - ETA: 0s - loss: 0.3158 - categorical_accuracy: 0.8839\n",
      "Epoch 00018: saving model to model_init_2024-01-0212_19_52.801279/model-00018-0.31581-0.88386-0.67605-0.73000.h5\n",
      "34/34 [==============================] - 306s 9s/step - loss: 0.3158 - categorical_accuracy: 0.8839 - val_loss: 0.6761 - val_categorical_accuracy: 0.7300 - lr: 8.0000e-06\n",
      "Epoch 19/25\n",
      "34/34 [==============================] - ETA: 0s - loss: 0.3377 - categorical_accuracy: 0.8756\n",
      "Epoch 00019: saving model to model_init_2024-01-0212_19_52.801279/model-00019-0.33768-0.87557-0.62668-0.76000.h5\n",
      "34/34 [==============================] - 285s 9s/step - loss: 0.3377 - categorical_accuracy: 0.8756 - val_loss: 0.6267 - val_categorical_accuracy: 0.7600 - lr: 8.0000e-06\n",
      "Epoch 20/25\n",
      "34/34 [==============================] - ETA: 0s - loss: 0.3131 - categorical_accuracy: 0.8952\n",
      "Epoch 00020: saving model to model_init_2024-01-0212_19_52.801279/model-00020-0.31310-0.89517-0.41413-0.89000.h5\n",
      "34/34 [==============================] - 308s 9s/step - loss: 0.3131 - categorical_accuracy: 0.8952 - val_loss: 0.4141 - val_categorical_accuracy: 0.8900 - lr: 8.0000e-06\n",
      "Epoch 21/25\n",
      "34/34 [==============================] - ETA: 0s - loss: 0.2980 - categorical_accuracy: 0.8839\n",
      "Epoch 00021: saving model to model_init_2024-01-0212_19_52.801279/model-00021-0.29800-0.88386-0.42809-0.87000.h5\n",
      "34/34 [==============================] - 305s 9s/step - loss: 0.2980 - categorical_accuracy: 0.8839 - val_loss: 0.4281 - val_categorical_accuracy: 0.8700 - lr: 8.0000e-06\n",
      "Epoch 22/25\n",
      "34/34 [==============================] - ETA: 0s - loss: 0.2830 - categorical_accuracy: 0.8959\n",
      "Epoch 00022: saving model to model_init_2024-01-0212_19_52.801279/model-00022-0.28298-0.89593-0.32877-0.89000.h5\n",
      "34/34 [==============================] - 293s 9s/step - loss: 0.2830 - categorical_accuracy: 0.8959 - val_loss: 0.3288 - val_categorical_accuracy: 0.8900 - lr: 8.0000e-06\n",
      "Epoch 23/25\n",
      "34/34 [==============================] - ETA: 0s - loss: 0.3469 - categorical_accuracy: 0.8710\n",
      "Epoch 00023: saving model to model_init_2024-01-0212_19_52.801279/model-00023-0.34692-0.87104-0.37428-0.87000.h5\n",
      "34/34 [==============================] - 290s 9s/step - loss: 0.3469 - categorical_accuracy: 0.8710 - val_loss: 0.3743 - val_categorical_accuracy: 0.8700 - lr: 8.0000e-06\n",
      "Epoch 24/25\n",
      "34/34 [==============================] - ETA: 0s - loss: 0.3070 - categorical_accuracy: 0.8922\n",
      "Epoch 00024: saving model to model_init_2024-01-0212_19_52.801279/model-00024-0.30702-0.89216-0.32883-0.91000.h5\n",
      "34/34 [==============================] - 297s 9s/step - loss: 0.3070 - categorical_accuracy: 0.8922 - val_loss: 0.3288 - val_categorical_accuracy: 0.9100 - lr: 8.0000e-06\n",
      "Epoch 25/25\n",
      "34/34 [==============================] - ETA: 0s - loss: 0.3028 - categorical_accuracy: 0.8869\n",
      "Epoch 00025: saving model to model_init_2024-01-0212_19_52.801279/model-00025-0.30280-0.88688-0.40924-0.84000.h5\n",
      "34/34 [==============================] - 340s 10s/step - loss: 0.3028 - categorical_accuracy: 0.8869 - val_loss: 0.4092 - val_categorical_accuracy: 0.8400 - lr: 8.0000e-06\n"
     ]
    }
   ],
   "source": [
    "\n",
    "print(\"Total Params:\", conv_3d2_model.count_params())\n",
    "history_model2=conv_3d2.train_model(conv_3d2_model,augment_data=True)"
   ]
  },
  {
   "cell_type": "code",
   "execution_count": 29,
   "id": "e1863c99",
   "metadata": {},
   "outputs": [
    {
     "data": {
      "image/png": "[encoded data removed]",
      "text/plain": [
       "<Figure size 1080x288 with 2 Axes>"
      ]
     },
     "metadata": {
      "needs_background": "light"
     },
     "output_type": "display_data"
    }
   ],
   "source": [
    "plot(history_model2)"
   ]
  },
  {
   "cell_type": "markdown",
   "id": "298c55c0",
   "metadata": {},
   "source": [
    "Model 3"
   ]
  },
  {
   "cell_type": "code",
   "execution_count": 7,
   "id": "56cf10f1",
   "metadata": {},
   "outputs": [],
   "source": [
    "class ModelConv3D3(ModelBuilder):\n",
    "    \n",
    "    def define_model(self,filtersize=(3,3,3),dense_neurons=64,dropout=0.25):\n",
    "\n",
    "        model = Sequential()\n",
    "        model.add(Conv3D(16, filtersize, padding='same',\n",
    "                 input_shape=(self.frames_to_sample,self.image_height,self.image_width,self.channels)))\n",
    "        model.add(Activation('relu'))\n",
    "        model.add(BatchNormalization())\n",
    "        model.add(MaxPooling3D(pool_size=(2, 2, 2)))\n",
    "\n",
    "        model.add(Conv3D(32, filtersize, padding='same'))\n",
    "        model.add(Activation('relu'))\n",
    "        model.add(BatchNormalization())\n",
    "        model.add(MaxPooling3D(pool_size=(2, 2, 2)))\n",
    "\n",
    "        model.add(Conv3D(64, filtersize, padding='same'))\n",
    "        model.add(Activation('relu'))\n",
    "        model.add(BatchNormalization())\n",
    "        model.add(MaxPooling3D(pool_size=(2, 2, 2)))\n",
    "\n",
    "        model.add(Conv3D(128, filtersize, padding='same'))\n",
    "        model.add(Activation('relu'))\n",
    "        model.add(BatchNormalization())\n",
    "        model.add(MaxPooling3D(pool_size=(2, 2, 2)))\n",
    "\n",
    "        model.add(Flatten())\n",
    "        model.add(Dense(dense_neurons,activation='relu'))\n",
    "        model.add(BatchNormalization())\n",
    "        model.add(Dropout(dropout))\n",
    "\n",
    "        model.add(Dense(dense_neurons,activation='relu'))\n",
    "        model.add(BatchNormalization())\n",
    "        model.add(Dropout(dropout))\n",
    "\n",
    "\n",
    "        model.add(Dense(self.num_classes,activation='softmax'))\n",
    "\n",
    "        optimiser = Adam(lr=0.0002)\n",
    "        model.compile(optimizer=optimiser, loss='categorical_crossentropy', metrics=['categorical_accuracy'])\n",
    "        return model"
   ]
  },
  {
   "cell_type": "code",
   "execution_count": 8,
   "id": "168c392e",
   "metadata": {},
   "outputs": [
    {
     "name": "stdout",
     "output_type": "stream",
     "text": [
      "Model: \"sequential\"\n",
      "_________________________________________________________________\n",
      " Layer (type)                Output Shape              Param #   \n",
      "=================================================================\n",
      " conv3d (Conv3D)             (None, 16, 120, 120, 16)  400       \n",
      "                                                                 \n",
      " activation (Activation)     (None, 16, 120, 120, 16)  0         \n",
      "                                                                 \n",
      " batch_normalization (BatchN  (None, 16, 120, 120, 16)  64       \n",
      " ormalization)                                                   \n",
      "                                                                 \n",
      " max_pooling3d (MaxPooling3D  (None, 8, 60, 60, 16)    0         \n",
      " )                                                               \n",
      "                                                                 \n",
      " conv3d_1 (Conv3D)           (None, 8, 60, 60, 32)     4128      \n",
      "                                                                 \n",
      " activation_1 (Activation)   (None, 8, 60, 60, 32)     0         \n",
      "                                                                 \n",
      " batch_normalization_1 (Batc  (None, 8, 60, 60, 32)    128       \n",
      " hNormalization)                                                 \n",
      "                                                                 \n",
      " max_pooling3d_1 (MaxPooling  (None, 4, 30, 30, 32)    0         \n",
      " 3D)                                                             \n",
      "                                                                 \n",
      " conv3d_2 (Conv3D)           (None, 4, 30, 30, 64)     16448     \n",
      "                                                                 \n",
      " activation_2 (Activation)   (None, 4, 30, 30, 64)     0         \n",
      "                                                                 \n",
      " batch_normalization_2 (Batc  (None, 4, 30, 30, 64)    256       \n",
      " hNormalization)                                                 \n",
      "                                                                 \n",
      " max_pooling3d_2 (MaxPooling  (None, 2, 15, 15, 64)    0         \n",
      " 3D)                                                             \n",
      "                                                                 \n",
      " conv3d_3 (Conv3D)           (None, 2, 15, 15, 128)    65664     \n",
      "                                                                 \n",
      " activation_3 (Activation)   (None, 2, 15, 15, 128)    0         \n",
      "                                                                 \n",
      " batch_normalization_3 (Batc  (None, 2, 15, 15, 128)   512       \n",
      " hNormalization)                                                 \n",
      "                                                                 \n",
      " max_pooling3d_3 (MaxPooling  (None, 1, 7, 7, 128)     0         \n",
      " 3D)                                                             \n",
      "                                                                 \n",
      " flatten (Flatten)           (None, 6272)              0         \n",
      "                                                                 \n",
      " dense (Dense)               (None, 256)               1605888   \n",
      "                                                                 \n",
      " batch_normalization_4 (Batc  (None, 256)              1024      \n",
      " hNormalization)                                                 \n",
      "                                                                 \n",
      " dropout (Dropout)           (None, 256)               0         \n",
      "                                                                 \n",
      " dense_1 (Dense)             (None, 256)               65792     \n",
      "                                                                 \n",
      " batch_normalization_5 (Batc  (None, 256)              1024      \n",
      " hNormalization)                                                 \n",
      "                                                                 \n",
      " dropout_1 (Dropout)         (None, 256)               0         \n",
      "                                                                 \n",
      " dense_2 (Dense)             (None, 5)                 1285      \n",
      "                                                                 \n",
      "=================================================================\n",
      "Total params: 1,762,613\n",
      "Trainable params: 1,761,109\n",
      "Non-trainable params: 1,504\n",
      "_________________________________________________________________\n"
     ]
    },
    {
     "name": "stderr",
     "output_type": "stream",
     "text": [
      "2024-01-02 14:55:00.636285: W tensorflow/core/common_runtime/gpu/gpu_bfc_allocator.cc:39] Overriding allow_growth setting because the TF_FORCE_GPU_ALLOW_GROWTH environment variable is set. Original config value was 0.\n",
      "2024-01-02 14:55:00.636348: I tensorflow/core/common_runtime/gpu/gpu_device.cc:1525] Created device /job:localhost/replica:0/task:0/device:GPU:0 with 14800 MB memory:  -> device: 0, name: Quadro RTX 5000, pci bus id: 0000:1c:00.0, compute capability: 7.5\n",
      "/usr/local/lib/python3.8/dist-packages/keras/optimizer_v2/adam.py:105: UserWarning: The `lr` argument is deprecated, use `learning_rate` instead.\n",
      "  super(Adam, self).__init__(name, **kwargs)\n"
     ]
    }
   ],
   "source": [
    "conv_3d3=ModelConv3D3()\n",
    "conv_3d3.initialize_path(project_folder)\n",
    "conv_3d3.initialize_image_properties(image_height=120,image_width=120)\n",
    "conv_3d3.initialize_hyperparams(frames_to_sample=16,batch_size=30,num_epochs=30)\n",
    "conv_3d3_model=conv_3d3.define_model(filtersize=(2,2,2),dense_neurons=256,dropout=0.5)\n",
    "conv_3d3_model.summary()"
   ]
  },
  {
   "cell_type": "code",
   "execution_count": 9,
   "id": "487f2a15",
   "metadata": {},
   "outputs": [
    {
     "name": "stdout",
     "output_type": "stream",
     "text": [
      "Total Params: 1762613\n",
      "WARNING:tensorflow:`period` argument is deprecated. Please use `save_freq` to specify the frequency in number of batches seen.\n"
     ]
    },
    {
     "name": "stderr",
     "output_type": "stream",
     "text": [
      "/tmp/ipykernel_301/2327497117.py:122: UserWarning: `Model.fit_generator` is deprecated and will be removed in a future version. Please use `Model.fit`, which supports generators.\n",
      "  history=model.fit_generator(train_generator, steps_per_epoch=steps_per_epoch, epochs=self.num_epochs, verbose=1,\n"
     ]
    },
    {
     "name": "stdout",
     "output_type": "stream",
     "text": [
      "Epoch 1/30\n"
     ]
    },
    {
     "name": "stderr",
     "output_type": "stream",
     "text": [
      "2024-01-02 14:55:11.077226: I tensorflow/stream_executor/cuda/cuda_dnn.cc:377] Loaded cuDNN version 8302\n"
     ]
    },
    {
     "name": "stdout",
     "output_type": "stream",
     "text": [
      "23/23 [==============================] - ETA: 0s - loss: 2.0423 - categorical_accuracy: 0.3514 \n",
      "Epoch 00001: saving model to model_init_2024-01-0214_55_00.812936/model-00001-2.04235-0.35143-1.87860-0.16000.h5\n",
      "23/23 [==============================] - 270s 12s/step - loss: 2.0423 - categorical_accuracy: 0.3514 - val_loss: 1.8786 - val_categorical_accuracy: 0.1600 - lr: 2.0000e-04\n",
      "Epoch 2/30\n",
      "23/23 [==============================] - ETA: 0s - loss: 1.3688 - categorical_accuracy: 0.5173 \n",
      "Epoch 00002: saving model to model_init_2024-01-0214_55_00.812936/model-00002-1.36881-0.51735-2.78605-0.16000.h5\n",
      "23/23 [==============================] - 240s 11s/step - loss: 1.3688 - categorical_accuracy: 0.5173 - val_loss: 2.7861 - val_categorical_accuracy: 0.1600 - lr: 2.0000e-04\n",
      "Epoch 3/30\n",
      "23/23 [==============================] - ETA: 0s - loss: 1.1341 - categorical_accuracy: 0.6033\n",
      "Epoch 00003: saving model to model_init_2024-01-0214_55_00.812936/model-00003-1.13414-0.60332-3.38167-0.17000.h5\n",
      "23/23 [==============================] - 189s 9s/step - loss: 1.1341 - categorical_accuracy: 0.6033 - val_loss: 3.3817 - val_categorical_accuracy: 0.1700 - lr: 2.0000e-04\n",
      "Epoch 4/30\n",
      "23/23 [==============================] - ETA: 0s - loss: 0.9821 - categorical_accuracy: 0.6305\n",
      "Epoch 00004: saving model to model_init_2024-01-0214_55_00.812936/model-00004-0.98208-0.63047-4.67692-0.17000.h5\n",
      "23/23 [==============================] - 200s 9s/step - loss: 0.9821 - categorical_accuracy: 0.6305 - val_loss: 4.6769 - val_categorical_accuracy: 0.1700 - lr: 2.0000e-04\n",
      "Epoch 5/30\n",
      "23/23 [==============================] - ETA: 0s - loss: 0.9212 - categorical_accuracy: 0.6652\n",
      "Epoch 00005: saving model to model_init_2024-01-0214_55_00.812936/model-00005-0.92122-0.66516-5.43415-0.16000.h5\n",
      "\n",
      "Epoch 00005: ReduceLROnPlateau reducing learning rate to 3.9999998989515007e-05.\n",
      "23/23 [==============================] - 224s 10s/step - loss: 0.9212 - categorical_accuracy: 0.6652 - val_loss: 5.4342 - val_categorical_accuracy: 0.1600 - lr: 2.0000e-04\n",
      "Epoch 6/30\n",
      "23/23 [==============================] - ETA: 0s - loss: 0.7883 - categorical_accuracy: 0.7014\n",
      "Epoch 00006: saving model to model_init_2024-01-0214_55_00.812936/model-00006-0.78826-0.70136-6.15273-0.16000.h5\n",
      "23/23 [==============================] - 218s 10s/step - loss: 0.7883 - categorical_accuracy: 0.7014 - val_loss: 6.1527 - val_categorical_accuracy: 0.1600 - lr: 4.0000e-05\n",
      "Epoch 7/30\n",
      "23/23 [==============================] - ETA: 0s - loss: 0.8570 - categorical_accuracy: 0.6991\n",
      "Epoch 00007: saving model to model_init_2024-01-0214_55_00.812936/model-00007-0.85704-0.69910-6.09655-0.14000.h5\n",
      "23/23 [==============================] - 209s 9s/step - loss: 0.8570 - categorical_accuracy: 0.6991 - val_loss: 6.0965 - val_categorical_accuracy: 0.1400 - lr: 4.0000e-05\n",
      "Epoch 8/30\n",
      "23/23 [==============================] - ETA: 0s - loss: 0.8034 - categorical_accuracy: 0.7195\n",
      "Epoch 00008: saving model to model_init_2024-01-0214_55_00.812936/model-00008-0.80338-0.71946-6.64530-0.19000.h5\n",
      "23/23 [==============================] - 200s 9s/step - loss: 0.8034 - categorical_accuracy: 0.7195 - val_loss: 6.6453 - val_categorical_accuracy: 0.1900 - lr: 4.0000e-05\n",
      "Epoch 9/30\n",
      "23/23 [==============================] - ETA: 0s - loss: 0.7746 - categorical_accuracy: 0.7127\n",
      "Epoch 00009: saving model to model_init_2024-01-0214_55_00.812936/model-00009-0.77459-0.71267-7.10960-0.16000.h5\n",
      "\n",
      "Epoch 00009: ReduceLROnPlateau reducing learning rate to 7.999999797903002e-06.\n",
      "23/23 [==============================] - 203s 9s/step - loss: 0.7746 - categorical_accuracy: 0.7127 - val_loss: 7.1096 - val_categorical_accuracy: 0.1600 - lr: 4.0000e-05\n",
      "Epoch 10/30\n",
      "23/23 [==============================] - ETA: 0s - loss: 0.7541 - categorical_accuracy: 0.7293\n",
      "Epoch 00010: saving model to model_init_2024-01-0214_55_00.812936/model-00010-0.75407-0.72926-7.14389-0.15000.h5\n",
      "23/23 [==============================] - 205s 9s/step - loss: 0.7541 - categorical_accuracy: 0.7293 - val_loss: 7.1439 - val_categorical_accuracy: 0.1500 - lr: 8.0000e-06\n",
      "Epoch 11/30\n",
      "23/23 [==============================] - ETA: 0s - loss: 0.7388 - categorical_accuracy: 0.7323\n",
      "Epoch 00011: saving model to model_init_2024-01-0214_55_00.812936/model-00011-0.73880-0.73228-6.97449-0.15000.h5\n",
      "23/23 [==============================] - 223s 10s/step - loss: 0.7388 - categorical_accuracy: 0.7323 - val_loss: 6.9745 - val_categorical_accuracy: 0.1500 - lr: 8.0000e-06\n",
      "Epoch 12/30\n",
      "23/23 [==============================] - ETA: 0s - loss: 0.7104 - categorical_accuracy: 0.7360\n",
      "Epoch 00012: saving model to model_init_2024-01-0214_55_00.812936/model-00012-0.71042-0.73605-6.67821-0.18000.h5\n",
      "23/23 [==============================] - 224s 10s/step - loss: 0.7104 - categorical_accuracy: 0.7360 - val_loss: 6.6782 - val_categorical_accuracy: 0.1800 - lr: 8.0000e-06\n",
      "Epoch 13/30\n",
      "23/23 [==============================] - ETA: 0s - loss: 0.7102 - categorical_accuracy: 0.7391\n",
      "Epoch 00013: saving model to model_init_2024-01-0214_55_00.812936/model-00013-0.71021-0.73906-6.61523-0.17000.h5\n",
      "\n",
      "Epoch 00013: ReduceLROnPlateau reducing learning rate to 1.5999999959603884e-06.\n",
      "23/23 [==============================] - 219s 10s/step - loss: 0.7102 - categorical_accuracy: 0.7391 - val_loss: 6.6152 - val_categorical_accuracy: 0.1700 - lr: 8.0000e-06\n",
      "Epoch 14/30\n",
      "23/23 [==============================] - ETA: 0s - loss: 0.6765 - categorical_accuracy: 0.7579 \n",
      "Epoch 00014: saving model to model_init_2024-01-0214_55_00.812936/model-00014-0.67649-0.75792-6.35889-0.14000.h5\n",
      "23/23 [==============================] - 239s 11s/step - loss: 0.6765 - categorical_accuracy: 0.7579 - val_loss: 6.3589 - val_categorical_accuracy: 0.1400 - lr: 1.6000e-06\n",
      "Epoch 15/30\n",
      "23/23 [==============================] - ETA: 0s - loss: 0.7102 - categorical_accuracy: 0.7504\n",
      "Epoch 00015: saving model to model_init_2024-01-0214_55_00.812936/model-00015-0.71017-0.75038-5.79270-0.22000.h5\n",
      "23/23 [==============================] - 219s 10s/step - loss: 0.7102 - categorical_accuracy: 0.7504 - val_loss: 5.7927 - val_categorical_accuracy: 0.2200 - lr: 1.6000e-06\n",
      "Epoch 16/30\n",
      "23/23 [==============================] - ETA: 0s - loss: 0.7400 - categorical_accuracy: 0.7225\n",
      "Epoch 00016: saving model to model_init_2024-01-0214_55_00.812936/model-00016-0.74003-0.72247-5.10175-0.27000.h5\n",
      "23/23 [==============================] - 212s 10s/step - loss: 0.7400 - categorical_accuracy: 0.7225 - val_loss: 5.1018 - val_categorical_accuracy: 0.2700 - lr: 1.6000e-06\n",
      "Epoch 17/30\n",
      "23/23 [==============================] - ETA: 0s - loss: 0.7352 - categorical_accuracy: 0.7406\n",
      "Epoch 00017: saving model to model_init_2024-01-0214_55_00.812936/model-00017-0.73517-0.74057-4.86810-0.27000.h5\n",
      "\n",
      "Epoch 00017: ReduceLROnPlateau reducing learning rate to 3.200000037395512e-07.\n",
      "23/23 [==============================] - 205s 9s/step - loss: 0.7352 - categorical_accuracy: 0.7406 - val_loss: 4.8681 - val_categorical_accuracy: 0.2700 - lr: 1.6000e-06\n",
      "Epoch 18/30\n",
      "23/23 [==============================] - ETA: 0s - loss: 0.7089 - categorical_accuracy: 0.7466\n",
      "Epoch 00018: saving model to model_init_2024-01-0214_55_00.812936/model-00018-0.70890-0.74661-4.14151-0.28000.h5\n",
      "23/23 [==============================] - 229s 10s/step - loss: 0.7089 - categorical_accuracy: 0.7466 - val_loss: 4.1415 - val_categorical_accuracy: 0.2800 - lr: 3.2000e-07\n",
      "Epoch 19/30\n",
      "23/23 [==============================] - ETA: 0s - loss: 0.7483 - categorical_accuracy: 0.7391\n",
      "Epoch 00019: saving model to model_init_2024-01-0214_55_00.812936/model-00019-0.74828-0.73906-4.05228-0.25000.h5\n",
      "23/23 [==============================] - 224s 10s/step - loss: 0.7483 - categorical_accuracy: 0.7391 - val_loss: 4.0523 - val_categorical_accuracy: 0.2500 - lr: 3.2000e-07\n",
      "Epoch 20/30\n",
      "23/23 [==============================] - ETA: 0s - loss: 0.7311 - categorical_accuracy: 0.7376\n",
      "Epoch 00020: saving model to model_init_2024-01-0214_55_00.812936/model-00020-0.73106-0.73756-3.25776-0.33000.h5\n",
      "23/23 [==============================] - 198s 9s/step - loss: 0.7311 - categorical_accuracy: 0.7376 - val_loss: 3.2578 - val_categorical_accuracy: 0.3300 - lr: 3.2000e-07\n",
      "Epoch 21/30\n",
      "23/23 [==============================] - ETA: 0s - loss: 0.7441 - categorical_accuracy: 0.7247\n",
      "Epoch 00021: saving model to model_init_2024-01-0214_55_00.812936/model-00021-0.74413-0.72474-2.85636-0.36000.h5\n",
      "\n",
      "Epoch 00021: ReduceLROnPlateau reducing learning rate to 6.399999961104187e-08.\n",
      "23/23 [==============================] - 226s 10s/step - loss: 0.7441 - categorical_accuracy: 0.7247 - val_loss: 2.8564 - val_categorical_accuracy: 0.3600 - lr: 3.2000e-07\n",
      "Epoch 22/30\n",
      "23/23 [==============================] - ETA: 0s - loss: 0.6916 - categorical_accuracy: 0.7413\n",
      "Epoch 00022: saving model to model_init_2024-01-0214_55_00.812936/model-00022-0.69157-0.74133-2.30355-0.44000.h5\n",
      "23/23 [==============================] - 227s 10s/step - loss: 0.6916 - categorical_accuracy: 0.7413 - val_loss: 2.3036 - val_categorical_accuracy: 0.4400 - lr: 6.4000e-08\n",
      "Epoch 23/30\n",
      "23/23 [==============================] - ETA: 0s - loss: 0.7815 - categorical_accuracy: 0.7119\n",
      "Epoch 00023: saving model to model_init_2024-01-0214_55_00.812936/model-00023-0.78148-0.71192-2.13692-0.38000.h5\n",
      "23/23 [==============================] - 232s 11s/step - loss: 0.7815 - categorical_accuracy: 0.7119 - val_loss: 2.1369 - val_categorical_accuracy: 0.3800 - lr: 6.4000e-08\n",
      "Epoch 24/30\n",
      "23/23 [==============================] - ETA: 0s - loss: 0.7330 - categorical_accuracy: 0.7255\n",
      "Epoch 00024: saving model to model_init_2024-01-0214_55_00.812936/model-00024-0.73301-0.72549-1.51547-0.50000.h5\n",
      "23/23 [==============================] - 204s 9s/step - loss: 0.7330 - categorical_accuracy: 0.7255 - val_loss: 1.5155 - val_categorical_accuracy: 0.5000 - lr: 6.4000e-08\n",
      "Epoch 25/30\n",
      "23/23 [==============================] - ETA: 0s - loss: 0.7773 - categorical_accuracy: 0.7285\n",
      "Epoch 00025: saving model to model_init_2024-01-0214_55_00.812936/model-00025-0.77727-0.72851-1.34286-0.54000.h5\n",
      "23/23 [==============================] - 211s 10s/step - loss: 0.7773 - categorical_accuracy: 0.7285 - val_loss: 1.3429 - val_categorical_accuracy: 0.5400 - lr: 6.4000e-08\n",
      "Epoch 26/30\n",
      "23/23 [==============================] - ETA: 0s - loss: 0.7132 - categorical_accuracy: 0.7376\n",
      "Epoch 00026: saving model to model_init_2024-01-0214_55_00.812936/model-00026-0.71317-0.73756-1.04249-0.62000.h5\n",
      "23/23 [==============================] - 230s 10s/step - loss: 0.7132 - categorical_accuracy: 0.7376 - val_loss: 1.0425 - val_categorical_accuracy: 0.6200 - lr: 6.4000e-08\n",
      "Epoch 27/30\n",
      "23/23 [==============================] - ETA: 0s - loss: 0.7348 - categorical_accuracy: 0.7443\n",
      "Epoch 00027: saving model to model_init_2024-01-0214_55_00.812936/model-00027-0.73480-0.74434-0.72548-0.76000.h5\n",
      "23/23 [==============================] - 240s 11s/step - loss: 0.7348 - categorical_accuracy: 0.7443 - val_loss: 0.7255 - val_categorical_accuracy: 0.7600 - lr: 6.4000e-08\n",
      "Epoch 28/30\n",
      "23/23 [==============================] - ETA: 0s - loss: 0.6999 - categorical_accuracy: 0.7624\n",
      "Epoch 00028: saving model to model_init_2024-01-0214_55_00.812936/model-00028-0.69994-0.76244-0.85469-0.77000.h5\n",
      "23/23 [==============================] - 232s 11s/step - loss: 0.6999 - categorical_accuracy: 0.7624 - val_loss: 0.8547 - val_categorical_accuracy: 0.7700 - lr: 6.4000e-08\n",
      "Epoch 29/30\n",
      "23/23 [==============================] - ETA: 0s - loss: 0.6731 - categorical_accuracy: 0.7383\n",
      "Epoch 00029: saving model to model_init_2024-01-0214_55_00.812936/model-00029-0.67306-0.73831-0.73294-0.76000.h5\n",
      "23/23 [==============================] - 215s 10s/step - loss: 0.6731 - categorical_accuracy: 0.7383 - val_loss: 0.7329 - val_categorical_accuracy: 0.7600 - lr: 6.4000e-08\n",
      "Epoch 30/30\n",
      "23/23 [==============================] - ETA: 0s - loss: 0.6781 - categorical_accuracy: 0.7398\n",
      "Epoch 00030: saving model to model_init_2024-01-0214_55_00.812936/model-00030-0.67811-0.73982-0.77783-0.80000.h5\n",
      "23/23 [==============================] - 230s 10s/step - loss: 0.6781 - categorical_accuracy: 0.7398 - val_loss: 0.7778 - val_categorical_accuracy: 0.8000 - lr: 6.4000e-08\n"
     ]
    }
   ],
   "source": [
    "print(\"Total Params:\", conv_3d3_model.count_params())\n",
    "history_model3=conv_3d3.train_model(conv_3d3_model,augment_data=True)"
   ]
  },
  {
   "cell_type": "code",
   "execution_count": 13,
   "id": "a2f344c7",
   "metadata": {},
   "outputs": [
    {
     "ename": "NameError",
     "evalue": "name 'history_model3' is not defined",
     "output_type": "error",
     "traceback": [
      "\u001b[0;31m---------------------------------------------------------------------------\u001b[0m",
      "\u001b[0;31mNameError\u001b[0m                                 Traceback (most recent call last)",
      "\u001b[0;32m/tmp/ipykernel_302/3946370759.py\u001b[0m in \u001b[0;36m<module>\u001b[0;34m\u001b[0m\n\u001b[0;32m----> 1\u001b[0;31m \u001b[0mplot\u001b[0m\u001b[0;34m(\u001b[0m\u001b[0mhistory_model3\u001b[0m\u001b[0;34m)\u001b[0m\u001b[0;34m\u001b[0m\u001b[0;34m\u001b[0m\u001b[0m\n\u001b[0m",
      "\u001b[0;31mNameError\u001b[0m: name 'history_model3' is not defined"
     ]
    }
   ],
   "source": [
    "\n",
    "plot(history_model3)"
   ]
  },
  {
   "cell_type": "markdown",
   "id": "eaf31d1c",
   "metadata": {},
   "source": [
    "## Model 4"
   ]
  },
  {
   "cell_type": "code",
   "execution_count": 8,
   "id": "a5029551",
   "metadata": {},
   "outputs": [],
   "source": [
    "class ModelConv3D4(ModelBuilder):\n",
    "    \n",
    "    def define_model(self,filtersize=(3,3,3),dense_neurons=64,dropout=0.25):\n",
    "\n",
    "        model = Sequential()\n",
    "        model.add(Conv3D(16, filtersize, padding='same',\n",
    "                 input_shape=(self.frames_to_sample,self.image_height,self.image_width,self.channels)))\n",
    "        model.add(Activation('relu'))\n",
    "        model.add(BatchNormalization())\n",
    "        \n",
    "        model.add(Conv3D(16, filtersize, padding='same',\n",
    "                 input_shape=(self.frames_to_sample,self.image_height,self.image_width,self.channels)))\n",
    "        model.add(Activation('relu'))\n",
    "        model.add(BatchNormalization())\n",
    "        \n",
    "        model.add(MaxPooling3D(pool_size=(2, 2, 2)))\n",
    "\n",
    "        model.add(Conv3D(32, filtersize, padding='same'))\n",
    "        model.add(Activation('relu'))\n",
    "        model.add(BatchNormalization())\n",
    "        \n",
    "        model.add(Conv3D(32, filtersize, padding='same'))\n",
    "        model.add(Activation('relu'))\n",
    "        model.add(BatchNormalization())\n",
    "        \n",
    "        model.add(MaxPooling3D(pool_size=(2, 2, 2)))\n",
    "\n",
    "        model.add(Conv3D(64, filtersize, padding='same'))\n",
    "        model.add(Activation('relu'))\n",
    "        model.add(BatchNormalization())\n",
    "        \n",
    "        model.add(Conv3D(64, filtersize, padding='same'))\n",
    "        model.add(Activation('relu'))\n",
    "        model.add(BatchNormalization())\n",
    "        \n",
    "        model.add(MaxPooling3D(pool_size=(2, 2, 2)))\n",
    "\n",
    "        model.add(Conv3D(128, filtersize, padding='same'))\n",
    "        model.add(Activation('relu'))\n",
    "        model.add(BatchNormalization())\n",
    "        \n",
    "        model.add(Conv3D(128, filtersize, padding='same'))\n",
    "        model.add(Activation('relu'))\n",
    "        model.add(BatchNormalization())\n",
    "        \n",
    "        model.add(MaxPooling3D(pool_size=(2, 2, 2)))\n",
    "        \n",
    "\n",
    "        model.add(Flatten())\n",
    "        model.add(Dense(dense_neurons,activation='relu'))\n",
    "        model.add(BatchNormalization())\n",
    "        model.add(Dropout(dropout))\n",
    "\n",
    "        model.add(Dense(dense_neurons,activation='relu'))\n",
    "        model.add(BatchNormalization())\n",
    "        model.add(Dropout(dropout))\n",
    "\n",
    "\n",
    "        model.add(Dense(self.num_classes,activation='softmax'))\n",
    "\n",
    "        optimiser = Adam()\n",
    "        model.compile(optimizer=optimiser, loss='categorical_crossentropy', metrics=['categorical_accuracy'])\n",
    "        return model"
   ]
  },
  {
   "cell_type": "code",
   "execution_count": 9,
   "id": "96a6dd98",
   "metadata": {},
   "outputs": [
    {
     "name": "stdout",
     "output_type": "stream",
     "text": [
      "Model: \"sequential_1\"\n",
      "_________________________________________________________________\n",
      " Layer (type)                Output Shape              Param #   \n",
      "=================================================================\n",
      " conv3d_4 (Conv3D)           (None, 16, 120, 120, 16)  1312      \n",
      "                                                                 \n",
      " activation_4 (Activation)   (None, 16, 120, 120, 16)  0         \n",
      "                                                                 \n",
      " batch_normalization_6 (Batc  (None, 16, 120, 120, 16)  64       \n",
      " hNormalization)                                                 \n",
      "                                                                 \n",
      " conv3d_5 (Conv3D)           (None, 16, 120, 120, 16)  6928      \n",
      "                                                                 \n",
      " activation_5 (Activation)   (None, 16, 120, 120, 16)  0         \n",
      "                                                                 \n",
      " batch_normalization_7 (Batc  (None, 16, 120, 120, 16)  64       \n",
      " hNormalization)                                                 \n",
      "                                                                 \n",
      " max_pooling3d_4 (MaxPooling  (None, 8, 60, 60, 16)    0         \n",
      " 3D)                                                             \n",
      "                                                                 \n",
      " conv3d_6 (Conv3D)           (None, 8, 60, 60, 32)     13856     \n",
      "                                                                 \n",
      " activation_6 (Activation)   (None, 8, 60, 60, 32)     0         \n",
      "                                                                 \n",
      " batch_normalization_8 (Batc  (None, 8, 60, 60, 32)    128       \n",
      " hNormalization)                                                 \n",
      "                                                                 \n",
      " conv3d_7 (Conv3D)           (None, 8, 60, 60, 32)     27680     \n",
      "                                                                 \n",
      " activation_7 (Activation)   (None, 8, 60, 60, 32)     0         \n",
      "                                                                 \n",
      " batch_normalization_9 (Batc  (None, 8, 60, 60, 32)    128       \n",
      " hNormalization)                                                 \n",
      "                                                                 \n",
      " max_pooling3d_5 (MaxPooling  (None, 4, 30, 30, 32)    0         \n",
      " 3D)                                                             \n",
      "                                                                 \n",
      " conv3d_8 (Conv3D)           (None, 4, 30, 30, 64)     55360     \n",
      "                                                                 \n",
      " activation_8 (Activation)   (None, 4, 30, 30, 64)     0         \n",
      "                                                                 \n",
      " batch_normalization_10 (Bat  (None, 4, 30, 30, 64)    256       \n",
      " chNormalization)                                                \n",
      "                                                                 \n",
      " conv3d_9 (Conv3D)           (None, 4, 30, 30, 64)     110656    \n",
      "                                                                 \n",
      " activation_9 (Activation)   (None, 4, 30, 30, 64)     0         \n",
      "                                                                 \n",
      " batch_normalization_11 (Bat  (None, 4, 30, 30, 64)    256       \n",
      " chNormalization)                                                \n",
      "                                                                 \n",
      " max_pooling3d_6 (MaxPooling  (None, 2, 15, 15, 64)    0         \n",
      " 3D)                                                             \n",
      "                                                                 \n",
      " conv3d_10 (Conv3D)          (None, 2, 15, 15, 128)    221312    \n",
      "                                                                 \n",
      " activation_10 (Activation)  (None, 2, 15, 15, 128)    0         \n",
      "                                                                 \n",
      " batch_normalization_12 (Bat  (None, 2, 15, 15, 128)   512       \n",
      " chNormalization)                                                \n",
      "                                                                 \n",
      " conv3d_11 (Conv3D)          (None, 2, 15, 15, 128)    442496    \n",
      "                                                                 \n",
      " activation_11 (Activation)  (None, 2, 15, 15, 128)    0         \n",
      "                                                                 \n",
      " batch_normalization_13 (Bat  (None, 2, 15, 15, 128)   512       \n",
      " chNormalization)                                                \n",
      "                                                                 \n",
      " max_pooling3d_7 (MaxPooling  (None, 1, 7, 7, 128)     0         \n",
      " 3D)                                                             \n",
      "                                                                 \n",
      " flatten_1 (Flatten)         (None, 6272)              0         \n",
      "                                                                 \n",
      " dense_3 (Dense)             (None, 256)               1605888   \n",
      "                                                                 \n",
      " batch_normalization_14 (Bat  (None, 256)              1024      \n",
      " chNormalization)                                                \n",
      "                                                                 \n",
      " dropout_2 (Dropout)         (None, 256)               0         \n",
      "                                                                 \n",
      " dense_4 (Dense)             (None, 256)               65792     \n",
      "                                                                 \n",
      " batch_normalization_15 (Bat  (None, 256)              1024      \n",
      " chNormalization)                                                \n",
      "                                                                 \n",
      " dropout_3 (Dropout)         (None, 256)               0         \n",
      "                                                                 \n",
      " dense_5 (Dense)             (None, 5)                 1285      \n",
      "                                                                 \n",
      "=================================================================\n",
      "Total params: 2,556,533\n",
      "Trainable params: 2,554,549\n",
      "Non-trainable params: 1,984\n",
      "_________________________________________________________________\n"
     ]
    }
   ],
   "source": [
    "conv_3d4=ModelConv3D4()\n",
    "conv_3d4.initialize_path(project_folder)\n",
    "conv_3d4.initialize_image_properties(image_height=120,image_width=120)\n",
    "conv_3d4.initialize_hyperparams(frames_to_sample=16,batch_size=20,num_epochs=30)\n",
    "conv_3d4_model=conv_3d4.define_model(filtersize=(3,3,3),dense_neurons=256,dropout=0.5)\n",
    "conv_3d4_model.summary()"
   ]
  },
  {
   "cell_type": "code",
   "execution_count": 10,
   "id": "d4fd377d",
   "metadata": {},
   "outputs": [
    {
     "name": "stdout",
     "output_type": "stream",
     "text": [
      "Total Params: 2556533\n",
      "WARNING:tensorflow:`period` argument is deprecated. Please use `save_freq` to specify the frequency in number of batches seen.\n"
     ]
    },
    {
     "name": "stderr",
     "output_type": "stream",
     "text": [
      "/tmp/ipykernel_301/2327497117.py:122: UserWarning: `Model.fit_generator` is deprecated and will be removed in a future version. Please use `Model.fit`, which supports generators.\n",
      "  history=model.fit_generator(train_generator, steps_per_epoch=steps_per_epoch, epochs=self.num_epochs, verbose=1,\n"
     ]
    },
    {
     "name": "stdout",
     "output_type": "stream",
     "text": [
      "Epoch 1/30\n"
     ]
    },
    {
     "name": "stderr",
     "output_type": "stream",
     "text": [
      "2024-01-03 04:36:06.482494: I tensorflow/stream_executor/cuda/cuda_dnn.cc:377] Loaded cuDNN version 8302\n"
     ]
    },
    {
     "name": "stdout",
     "output_type": "stream",
     "text": [
      "34/34 [==============================] - ETA: 0s - loss: 1.9504 - categorical_accuracy: 0.3710\n",
      "Epoch 00001: saving model to model_init_2024-01-0304_35_59.559582/model-00001-1.95036-0.37104-2.02619-0.21000.h5\n",
      "34/34 [==============================] - 204s 6s/step - loss: 1.9504 - categorical_accuracy: 0.3710 - val_loss: 2.0262 - val_categorical_accuracy: 0.2100 - lr: 0.0010\n",
      "Epoch 2/30\n",
      "34/34 [==============================] - ETA: 0s - loss: 1.5217 - categorical_accuracy: 0.4804\n",
      "Epoch 00002: saving model to model_init_2024-01-0304_35_59.559582/model-00002-1.52167-0.48039-2.50353-0.35000.h5\n",
      "34/34 [==============================] - 196s 6s/step - loss: 1.5217 - categorical_accuracy: 0.4804 - val_loss: 2.5035 - val_categorical_accuracy: 0.3500 - lr: 0.0010\n",
      "Epoch 3/30\n",
      "34/34 [==============================] - ETA: 0s - loss: 1.2636 - categorical_accuracy: 0.5468\n",
      "Epoch 00003: saving model to model_init_2024-01-0304_35_59.559582/model-00003-1.26362-0.54676-3.14310-0.28000.h5\n",
      "34/34 [==============================] - 193s 6s/step - loss: 1.2636 - categorical_accuracy: 0.5468 - val_loss: 3.1431 - val_categorical_accuracy: 0.2800 - lr: 0.0010\n",
      "Epoch 4/30\n",
      "34/34 [==============================] - ETA: 0s - loss: 1.1654 - categorical_accuracy: 0.6048\n",
      "Epoch 00004: saving model to model_init_2024-01-0304_35_59.559582/model-00004-1.16537-0.60483-4.16972-0.20000.h5\n",
      "34/34 [==============================] - 198s 6s/step - loss: 1.1654 - categorical_accuracy: 0.6048 - val_loss: 4.1697 - val_categorical_accuracy: 0.2000 - lr: 0.0010\n",
      "Epoch 5/30\n",
      "34/34 [==============================] - ETA: 0s - loss: 0.9772 - categorical_accuracy: 0.6486\n",
      "Epoch 00005: saving model to model_init_2024-01-0304_35_59.559582/model-00005-0.97724-0.64857-2.94630-0.19000.h5\n",
      "\n",
      "Epoch 00005: ReduceLROnPlateau reducing learning rate to 0.00020000000949949026.\n",
      "34/34 [==============================] - 195s 6s/step - loss: 0.9772 - categorical_accuracy: 0.6486 - val_loss: 2.9463 - val_categorical_accuracy: 0.1900 - lr: 0.0010\n",
      "Epoch 6/30\n",
      "34/34 [==============================] - ETA: 0s - loss: 0.7687 - categorical_accuracy: 0.7089\n",
      "Epoch 00006: saving model to model_init_2024-01-0304_35_59.559582/model-00006-0.76875-0.70890-3.30402-0.24000.h5\n",
      "34/34 [==============================] - 198s 6s/step - loss: 0.7687 - categorical_accuracy: 0.7089 - val_loss: 3.3040 - val_categorical_accuracy: 0.2400 - lr: 2.0000e-04\n",
      "Epoch 7/30\n",
      "34/34 [==============================] - ETA: 0s - loss: 0.6845 - categorical_accuracy: 0.7428\n",
      "Epoch 00007: saving model to model_init_2024-01-0304_35_59.559582/model-00007-0.68450-0.74284-3.54033-0.31000.h5\n",
      "34/34 [==============================] - 200s 6s/step - loss: 0.6845 - categorical_accuracy: 0.7428 - val_loss: 3.5403 - val_categorical_accuracy: 0.3100 - lr: 2.0000e-04\n",
      "Epoch 8/30\n",
      "34/34 [==============================] - ETA: 0s - loss: 0.5895 - categorical_accuracy: 0.7851\n",
      "Epoch 00008: saving model to model_init_2024-01-0304_35_59.559582/model-00008-0.58947-0.78507-3.92909-0.25000.h5\n",
      "34/34 [==============================] - 195s 6s/step - loss: 0.5895 - categorical_accuracy: 0.7851 - val_loss: 3.9291 - val_categorical_accuracy: 0.2500 - lr: 2.0000e-04\n",
      "Epoch 9/30\n",
      "34/34 [==============================] - ETA: 0s - loss: 0.5865 - categorical_accuracy: 0.7722\n",
      "Epoch 00009: saving model to model_init_2024-01-0304_35_59.559582/model-00009-0.58648-0.77225-3.93235-0.29000.h5\n",
      "\n",
      "Epoch 00009: ReduceLROnPlateau reducing learning rate to 4.0000001899898055e-05.\n",
      "34/34 [==============================] - 197s 6s/step - loss: 0.5865 - categorical_accuracy: 0.7722 - val_loss: 3.9324 - val_categorical_accuracy: 0.2900 - lr: 2.0000e-04\n",
      "Epoch 10/30\n",
      "34/34 [==============================] - ETA: 0s - loss: 0.5547 - categorical_accuracy: 0.7956\n",
      "Epoch 00010: saving model to model_init_2024-01-0304_35_59.559582/model-00010-0.55467-0.79563-3.60574-0.32000.h5\n",
      "34/34 [==============================] - 201s 6s/step - loss: 0.5547 - categorical_accuracy: 0.7956 - val_loss: 3.6057 - val_categorical_accuracy: 0.3200 - lr: 4.0000e-05\n",
      "Epoch 11/30\n",
      "34/34 [==============================] - ETA: 0s - loss: 0.5496 - categorical_accuracy: 0.7881\n",
      "Epoch 00011: saving model to model_init_2024-01-0304_35_59.559582/model-00011-0.54962-0.78808-2.95706-0.32000.h5\n",
      "34/34 [==============================] - 197s 6s/step - loss: 0.5496 - categorical_accuracy: 0.7881 - val_loss: 2.9571 - val_categorical_accuracy: 0.3200 - lr: 4.0000e-05\n",
      "Epoch 12/30\n",
      "34/34 [==============================] - ETA: 0s - loss: 0.4858 - categorical_accuracy: 0.8145\n",
      "Epoch 00012: saving model to model_init_2024-01-0304_35_59.559582/model-00012-0.48580-0.81448-1.96097-0.39000.h5\n",
      "34/34 [==============================] - 203s 6s/step - loss: 0.4858 - categorical_accuracy: 0.8145 - val_loss: 1.9610 - val_categorical_accuracy: 0.3900 - lr: 4.0000e-05\n",
      "Epoch 13/30\n",
      "34/34 [==============================] - ETA: 0s - loss: 0.4927 - categorical_accuracy: 0.8160\n",
      "Epoch 00013: saving model to model_init_2024-01-0304_35_59.559582/model-00013-0.49268-0.81599-1.73644-0.41000.h5\n",
      "34/34 [==============================] - 200s 6s/step - loss: 0.4927 - categorical_accuracy: 0.8160 - val_loss: 1.7364 - val_categorical_accuracy: 0.4100 - lr: 4.0000e-05\n",
      "Epoch 14/30\n",
      "34/34 [==============================] - ETA: 0s - loss: 0.4514 - categorical_accuracy: 0.8296\n",
      "Epoch 00014: saving model to model_init_2024-01-0304_35_59.559582/model-00014-0.45143-0.82956-1.35187-0.51000.h5\n",
      "34/34 [==============================] - 202s 6s/step - loss: 0.4514 - categorical_accuracy: 0.8296 - val_loss: 1.3519 - val_categorical_accuracy: 0.5100 - lr: 4.0000e-05\n",
      "Epoch 15/30\n",
      "34/34 [==============================] - ETA: 0s - loss: 0.4886 - categorical_accuracy: 0.8243\n",
      "Epoch 00015: saving model to model_init_2024-01-0304_35_59.559582/model-00015-0.48862-0.82428-1.02139-0.59000.h5\n",
      "34/34 [==============================] - 188s 6s/step - loss: 0.4886 - categorical_accuracy: 0.8243 - val_loss: 1.0214 - val_categorical_accuracy: 0.5900 - lr: 4.0000e-05\n",
      "Epoch 16/30\n",
      "34/34 [==============================] - ETA: 0s - loss: 0.4471 - categorical_accuracy: 0.8356\n",
      "Epoch 00016: saving model to model_init_2024-01-0304_35_59.559582/model-00016-0.44714-0.83560-0.82484-0.67000.h5\n",
      "34/34 [==============================] - 197s 6s/step - loss: 0.4471 - categorical_accuracy: 0.8356 - val_loss: 0.8248 - val_categorical_accuracy: 0.6700 - lr: 4.0000e-05\n",
      "Epoch 17/30\n",
      "34/34 [==============================] - ETA: 0s - loss: 0.4168 - categorical_accuracy: 0.8416\n",
      "Epoch 00017: saving model to model_init_2024-01-0304_35_59.559582/model-00017-0.41675-0.84163-0.67058-0.72000.h5\n",
      "34/34 [==============================] - 194s 6s/step - loss: 0.4168 - categorical_accuracy: 0.8416 - val_loss: 0.6706 - val_categorical_accuracy: 0.7200 - lr: 4.0000e-05\n",
      "Epoch 18/30\n",
      "34/34 [==============================] - ETA: 0s - loss: 0.3710 - categorical_accuracy: 0.8650\n",
      "Epoch 00018: saving model to model_init_2024-01-0304_35_59.559582/model-00018-0.37103-0.86501-0.54849-0.81000.h5\n",
      "34/34 [==============================] - 191s 6s/step - loss: 0.3710 - categorical_accuracy: 0.8650 - val_loss: 0.5485 - val_categorical_accuracy: 0.8100 - lr: 4.0000e-05\n",
      "Epoch 19/30\n",
      "34/34 [==============================] - ETA: 0s - loss: 0.4270 - categorical_accuracy: 0.8462\n",
      "Epoch 00019: saving model to model_init_2024-01-0304_35_59.559582/model-00019-0.42704-0.84615-0.53151-0.76000.h5\n",
      "34/34 [==============================] - 192s 6s/step - loss: 0.4270 - categorical_accuracy: 0.8462 - val_loss: 0.5315 - val_categorical_accuracy: 0.7600 - lr: 4.0000e-05\n",
      "Epoch 20/30\n",
      "34/34 [==============================] - ETA: 0s - loss: 0.3665 - categorical_accuracy: 0.8650\n",
      "Epoch 00020: saving model to model_init_2024-01-0304_35_59.559582/model-00020-0.36653-0.86501-0.52101-0.85000.h5\n",
      "34/34 [==============================] - 189s 6s/step - loss: 0.3665 - categorical_accuracy: 0.8650 - val_loss: 0.5210 - val_categorical_accuracy: 0.8500 - lr: 4.0000e-05\n",
      "Epoch 21/30\n",
      "34/34 [==============================] - ETA: 0s - loss: 0.3684 - categorical_accuracy: 0.8627\n",
      "Epoch 00021: saving model to model_init_2024-01-0304_35_59.559582/model-00021-0.36836-0.86275-0.48119-0.85000.h5\n",
      "34/34 [==============================] - 195s 6s/step - loss: 0.3684 - categorical_accuracy: 0.8627 - val_loss: 0.4812 - val_categorical_accuracy: 0.8500 - lr: 4.0000e-05\n",
      "Epoch 22/30\n",
      "34/34 [==============================] - ETA: 0s - loss: 0.3964 - categorical_accuracy: 0.8537\n",
      "Epoch 00022: saving model to model_init_2024-01-0304_35_59.559582/model-00022-0.39635-0.85370-0.32931-0.88000.h5\n",
      "34/34 [==============================] - 185s 6s/step - loss: 0.3964 - categorical_accuracy: 0.8537 - val_loss: 0.3293 - val_categorical_accuracy: 0.8800 - lr: 4.0000e-05\n",
      "Epoch 23/30\n",
      "34/34 [==============================] - ETA: 0s - loss: 0.3664 - categorical_accuracy: 0.8658\n",
      "Epoch 00023: saving model to model_init_2024-01-0304_35_59.559582/model-00023-0.36640-0.86576-0.61332-0.81000.h5\n",
      "34/34 [==============================] - 198s 6s/step - loss: 0.3664 - categorical_accuracy: 0.8658 - val_loss: 0.6133 - val_categorical_accuracy: 0.8100 - lr: 4.0000e-05\n",
      "Epoch 24/30\n",
      "34/34 [==============================] - ETA: 0s - loss: 0.3679 - categorical_accuracy: 0.8688\n",
      "Epoch 00024: saving model to model_init_2024-01-0304_35_59.559582/model-00024-0.36785-0.86878-0.39809-0.87000.h5\n",
      "34/34 [==============================] - 213s 6s/step - loss: 0.3679 - categorical_accuracy: 0.8688 - val_loss: 0.3981 - val_categorical_accuracy: 0.8700 - lr: 4.0000e-05\n",
      "Epoch 25/30\n",
      "34/34 [==============================] - ETA: 0s - loss: 0.3498 - categorical_accuracy: 0.8718\n",
      "Epoch 00025: saving model to model_init_2024-01-0304_35_59.559582/model-00025-0.34981-0.87179-0.41650-0.84000.h5\n",
      "34/34 [==============================] - 199s 6s/step - loss: 0.3498 - categorical_accuracy: 0.8718 - val_loss: 0.4165 - val_categorical_accuracy: 0.8400 - lr: 4.0000e-05\n",
      "Epoch 26/30\n",
      "34/34 [==============================] - ETA: 0s - loss: 0.3656 - categorical_accuracy: 0.8590\n",
      "Epoch 00026: saving model to model_init_2024-01-0304_35_59.559582/model-00026-0.36559-0.85897-0.38138-0.86000.h5\n",
      "\n",
      "Epoch 00026: ReduceLROnPlateau reducing learning rate to 8.000000525498762e-06.\n",
      "34/34 [==============================] - 193s 6s/step - loss: 0.3656 - categorical_accuracy: 0.8590 - val_loss: 0.3814 - val_categorical_accuracy: 0.8600 - lr: 4.0000e-05\n",
      "Epoch 27/30\n",
      "34/34 [==============================] - ETA: 0s - loss: 0.3337 - categorical_accuracy: 0.8831\n",
      "Epoch 00027: saving model to model_init_2024-01-0304_35_59.559582/model-00027-0.33374-0.88311-0.40941-0.87000.h5\n",
      "34/34 [==============================] - 191s 6s/step - loss: 0.3337 - categorical_accuracy: 0.8831 - val_loss: 0.4094 - val_categorical_accuracy: 0.8700 - lr: 8.0000e-06\n",
      "Epoch 28/30\n",
      "34/34 [==============================] - ETA: 0s - loss: 0.3077 - categorical_accuracy: 0.8959\n",
      "Epoch 00028: saving model to model_init_2024-01-0304_35_59.559582/model-00028-0.30772-0.89593-0.39673-0.86000.h5\n",
      "34/34 [==============================] - 199s 6s/step - loss: 0.3077 - categorical_accuracy: 0.8959 - val_loss: 0.3967 - val_categorical_accuracy: 0.8600 - lr: 8.0000e-06\n",
      "Epoch 29/30\n",
      "34/34 [==============================] - ETA: 0s - loss: 0.2715 - categorical_accuracy: 0.9035\n",
      "Epoch 00029: saving model to model_init_2024-01-0304_35_59.559582/model-00029-0.27150-0.90347-0.36468-0.91000.h5\n",
      "34/34 [==============================] - 213s 6s/step - loss: 0.2715 - categorical_accuracy: 0.9035 - val_loss: 0.3647 - val_categorical_accuracy: 0.9100 - lr: 8.0000e-06\n",
      "Epoch 30/30\n",
      "34/34 [==============================] - ETA: 0s - loss: 0.3075 - categorical_accuracy: 0.8899\n",
      "Epoch 00030: saving model to model_init_2024-01-0304_35_59.559582/model-00030-0.30755-0.88989-0.44316-0.85000.h5\n",
      "\n",
      "Epoch 00030: ReduceLROnPlateau reducing learning rate to 1.6000001778593287e-06.\n",
      "34/34 [==============================] - 227s 7s/step - loss: 0.3075 - categorical_accuracy: 0.8899 - val_loss: 0.4432 - val_categorical_accuracy: 0.8500 - lr: 8.0000e-06\n"
     ]
    }
   ],
   "source": [
    "print(\"Total Params:\", conv_3d4_model.count_params())\n",
    "history_model4=conv_3d4.train_model(conv_3d4_model,augment_data=True)"
   ]
  },
  {
   "cell_type": "code",
   "execution_count": 19,
   "id": "aa11b087",
   "metadata": {},
   "outputs": [
    {
     "data": {
      "image/png": "[encoded data removed]",
      "text/plain": [
       "<Figure size 1080x288 with 2 Axes>"
      ]
     },
     "metadata": {
      "needs_background": "light"
     },
     "output_type": "display_data"
    }
   ],
   "source": [
    "\n",
    "plot(history_model4)"
   ]
  },
  {
   "cell_type": "markdown",
   "id": "ad3bb7ab",
   "metadata": {},
   "source": [
    "Model 5"
   ]
  },
  {
   "cell_type": "code",
   "execution_count": 14,
   "id": "e799187f",
   "metadata": {},
   "outputs": [],
   "source": [
    "class ModelConv3D5(ModelBuilder):\n",
    "    \n",
    "    def define_model(self,filtersize=(3,3,3),dense_neurons=64,dropout=0.25):\n",
    "\n",
    "        model = Sequential()\n",
    "        model.add(Conv3D(16, filtersize, padding='same',\n",
    "                 input_shape=(self.frames_to_sample,self.image_height,self.image_width,self.channels)))\n",
    "        model.add(Activation('relu'))\n",
    "        model.add(BatchNormalization())\n",
    "        \n",
    "        model.add(Conv3D(16, filtersize, padding='same',\n",
    "                 input_shape=(self.frames_to_sample,self.image_height,self.image_width,self.channels)))\n",
    "        model.add(Activation('relu'))\n",
    "        model.add(BatchNormalization())\n",
    "        \n",
    "        model.add(MaxPooling3D(pool_size=(2, 2, 2)))\n",
    "        model.add(Dropout(dropout))\n",
    "\n",
    "        model.add(Conv3D(32, filtersize, padding='same'))\n",
    "        model.add(Activation('relu'))\n",
    "        model.add(BatchNormalization())\n",
    "        \n",
    "        model.add(Conv3D(32, filtersize, padding='same'))\n",
    "        model.add(Activation('relu'))\n",
    "        model.add(BatchNormalization())\n",
    "        \n",
    "        model.add(MaxPooling3D(pool_size=(2, 2, 2)))\n",
    "        model.add(Dropout(dropout))\n",
    "\n",
    "        model.add(Conv3D(64, filtersize, padding='same'))\n",
    "        model.add(Activation('relu'))\n",
    "        model.add(BatchNormalization())\n",
    "        \n",
    "        model.add(Conv3D(64, filtersize, padding='same'))\n",
    "        model.add(Activation('relu'))\n",
    "        model.add(BatchNormalization())\n",
    "        \n",
    "        model.add(MaxPooling3D(pool_size=(2, 2, 2)))\n",
    "        model.add(Dropout(dropout))\n",
    "\n",
    "        model.add(Conv3D(128, filtersize, padding='same'))\n",
    "        model.add(Activation('relu'))\n",
    "        model.add(BatchNormalization())\n",
    "        \n",
    "        model.add(Conv3D(128, filtersize, padding='same'))\n",
    "        model.add(Activation('relu'))\n",
    "        model.add(BatchNormalization())\n",
    "        \n",
    "        model.add(MaxPooling3D(pool_size=(2, 2, 2)))\n",
    "        model.add(Dropout(dropout))\n",
    "        \n",
    "        model.add(Flatten())\n",
    "        model.add(Dense(dense_neurons,activation='relu'))\n",
    "        model.add(BatchNormalization())\n",
    "        model.add(Dropout(dropout))\n",
    "\n",
    "        model.add(Dense(dense_neurons,activation='relu'))\n",
    "        model.add(BatchNormalization())\n",
    "        model.add(Dropout(dropout))\n",
    "\n",
    "\n",
    "        model.add(Dense(self.num_classes,activation='softmax'))\n",
    "\n",
    "        optimiser = Adam()\n",
    "        model.compile(optimizer=optimiser, loss='categorical_crossentropy', metrics=['categorical_accuracy'])\n",
    "        return model"
   ]
  },
  {
   "cell_type": "code",
   "execution_count": 15,
   "id": "cf719bb8",
   "metadata": {},
   "outputs": [
    {
     "name": "stdout",
     "output_type": "stream",
     "text": [
      "Model: \"sequential_2\"\n",
      "_________________________________________________________________\n",
      " Layer (type)                Output Shape              Param #   \n",
      "=================================================================\n",
      " conv3d_12 (Conv3D)          (None, 16, 120, 120, 16)  1312      \n",
      "                                                                 \n",
      " activation_12 (Activation)  (None, 16, 120, 120, 16)  0         \n",
      "                                                                 \n",
      " batch_normalization_16 (Bat  (None, 16, 120, 120, 16)  64       \n",
      " chNormalization)                                                \n",
      "                                                                 \n",
      " conv3d_13 (Conv3D)          (None, 16, 120, 120, 16)  6928      \n",
      "                                                                 \n",
      " activation_13 (Activation)  (None, 16, 120, 120, 16)  0         \n",
      "                                                                 \n",
      " batch_normalization_17 (Bat  (None, 16, 120, 120, 16)  64       \n",
      " chNormalization)                                                \n",
      "                                                                 \n",
      " max_pooling3d_8 (MaxPooling  (None, 8, 60, 60, 16)    0         \n",
      " 3D)                                                             \n",
      "                                                                 \n",
      " dropout_4 (Dropout)         (None, 8, 60, 60, 16)     0         \n",
      "                                                                 \n",
      " conv3d_14 (Conv3D)          (None, 8, 60, 60, 32)     13856     \n",
      "                                                                 \n",
      " activation_14 (Activation)  (None, 8, 60, 60, 32)     0         \n",
      "                                                                 \n",
      " batch_normalization_18 (Bat  (None, 8, 60, 60, 32)    128       \n",
      " chNormalization)                                                \n",
      "                                                                 \n",
      " conv3d_15 (Conv3D)          (None, 8, 60, 60, 32)     27680     \n",
      "                                                                 \n",
      " activation_15 (Activation)  (None, 8, 60, 60, 32)     0         \n",
      "                                                                 \n",
      " batch_normalization_19 (Bat  (None, 8, 60, 60, 32)    128       \n",
      " chNormalization)                                                \n",
      "                                                                 \n",
      " max_pooling3d_9 (MaxPooling  (None, 4, 30, 30, 32)    0         \n",
      " 3D)                                                             \n",
      "                                                                 \n",
      " dropout_5 (Dropout)         (None, 4, 30, 30, 32)     0         \n",
      "                                                                 \n",
      " conv3d_16 (Conv3D)          (None, 4, 30, 30, 64)     55360     \n",
      "                                                                 \n",
      " activation_16 (Activation)  (None, 4, 30, 30, 64)     0         \n",
      "                                                                 \n",
      " batch_normalization_20 (Bat  (None, 4, 30, 30, 64)    256       \n",
      " chNormalization)                                                \n",
      "                                                                 \n",
      " conv3d_17 (Conv3D)          (None, 4, 30, 30, 64)     110656    \n",
      "                                                                 \n",
      " activation_17 (Activation)  (None, 4, 30, 30, 64)     0         \n",
      "                                                                 \n",
      " batch_normalization_21 (Bat  (None, 4, 30, 30, 64)    256       \n",
      " chNormalization)                                                \n",
      "                                                                 \n",
      " max_pooling3d_10 (MaxPoolin  (None, 2, 15, 15, 64)    0         \n",
      " g3D)                                                            \n",
      "                                                                 \n",
      " dropout_6 (Dropout)         (None, 2, 15, 15, 64)     0         \n",
      "                                                                 \n",
      " conv3d_18 (Conv3D)          (None, 2, 15, 15, 128)    221312    \n",
      "                                                                 \n",
      " activation_18 (Activation)  (None, 2, 15, 15, 128)    0         \n",
      "                                                                 \n",
      " batch_normalization_22 (Bat  (None, 2, 15, 15, 128)   512       \n",
      " chNormalization)                                                \n",
      "                                                                 \n",
      " conv3d_19 (Conv3D)          (None, 2, 15, 15, 128)    442496    \n",
      "                                                                 \n",
      " activation_19 (Activation)  (None, 2, 15, 15, 128)    0         \n",
      "                                                                 \n",
      " batch_normalization_23 (Bat  (None, 2, 15, 15, 128)   512       \n",
      " chNormalization)                                                \n",
      "                                                                 \n",
      " max_pooling3d_11 (MaxPoolin  (None, 1, 7, 7, 128)     0         \n",
      " g3D)                                                            \n",
      "                                                                 \n",
      " dropout_7 (Dropout)         (None, 1, 7, 7, 128)      0         \n",
      "                                                                 \n",
      " flatten_2 (Flatten)         (None, 6272)              0         \n",
      "                                                                 \n",
      " dense_6 (Dense)             (None, 256)               1605888   \n",
      "                                                                 \n",
      " batch_normalization_24 (Bat  (None, 256)              1024      \n",
      " chNormalization)                                                \n",
      "                                                                 \n",
      " dropout_8 (Dropout)         (None, 256)               0         \n",
      "                                                                 \n",
      " dense_7 (Dense)             (None, 256)               65792     \n",
      "                                                                 \n",
      " batch_normalization_25 (Bat  (None, 256)              1024      \n",
      " chNormalization)                                                \n",
      "                                                                 \n",
      " dropout_9 (Dropout)         (None, 256)               0         \n",
      "                                                                 \n",
      " dense_8 (Dense)             (None, 5)                 1285      \n",
      "                                                                 \n",
      "=================================================================\n",
      "Total params: 2,556,533\n",
      "Trainable params: 2,554,549\n",
      "Non-trainable params: 1,984\n",
      "_________________________________________________________________\n"
     ]
    }
   ],
   "source": [
    "conv_3d5=ModelConv3D5()\n",
    "conv_3d5.initialize_path(project_folder)\n",
    "conv_3d5.initialize_image_properties(image_height=120,image_width=120)\n",
    "conv_3d5.initialize_hyperparams(frames_to_sample=16,batch_size=20,num_epochs=22)\n",
    "conv_3d5_model=conv_3d5.define_model(filtersize=(3,3,3),dense_neurons=256,dropout=0.25)\n",
    "conv_3d5_model.summary()"
   ]
  },
  {
   "cell_type": "code",
   "execution_count": 16,
   "id": "2a56d8f3",
   "metadata": {},
   "outputs": [
    {
     "name": "stdout",
     "output_type": "stream",
     "text": [
      "Total Params: 2556533\n",
      "WARNING:tensorflow:`period` argument is deprecated. Please use `save_freq` to specify the frequency in number of batches seen.\n"
     ]
    },
    {
     "name": "stderr",
     "output_type": "stream",
     "text": [
      "/tmp/ipykernel_301/2327497117.py:122: UserWarning: `Model.fit_generator` is deprecated and will be removed in a future version. Please use `Model.fit`, which supports generators.\n",
      "  history=model.fit_generator(train_generator, steps_per_epoch=steps_per_epoch, epochs=self.num_epochs, verbose=1,\n"
     ]
    },
    {
     "name": "stdout",
     "output_type": "stream",
     "text": [
      "Epoch 1/22\n",
      "34/34 [==============================] - ETA: 0s - loss: 1.7668 - categorical_accuracy: 0.4027\n",
      "Epoch 00001: saving model to model_init_2024-01-0306_24_43.812973/model-00001-1.76684-0.40271-3.33756-0.16000.h5\n",
      "34/34 [==============================] - 209s 6s/step - loss: 1.7668 - categorical_accuracy: 0.4027 - val_loss: 3.3376 - val_categorical_accuracy: 0.1600 - lr: 0.0010\n",
      "Epoch 2/22\n",
      "34/34 [==============================] - ETA: 0s - loss: 1.2856 - categorical_accuracy: 0.5256\n",
      "Epoch 00002: saving model to model_init_2024-01-0306_24_43.812973/model-00002-1.28559-0.52564-3.29824-0.18000.h5\n",
      "34/34 [==============================] - 202s 6s/step - loss: 1.2856 - categorical_accuracy: 0.5256 - val_loss: 3.2982 - val_categorical_accuracy: 0.1800 - lr: 0.0010\n",
      "Epoch 3/22\n",
      "34/34 [==============================] - ETA: 0s - loss: 1.0798 - categorical_accuracy: 0.5807\n",
      "Epoch 00003: saving model to model_init_2024-01-0306_24_43.812973/model-00003-1.07981-0.58069-4.62254-0.22000.h5\n",
      "34/34 [==============================] - 207s 6s/step - loss: 1.0798 - categorical_accuracy: 0.5807 - val_loss: 4.6225 - val_categorical_accuracy: 0.2200 - lr: 0.0010\n",
      "Epoch 4/22\n",
      "34/34 [==============================] - ETA: 0s - loss: 0.8988 - categorical_accuracy: 0.6569\n",
      "Epoch 00004: saving model to model_init_2024-01-0306_24_43.812973/model-00004-0.89876-0.65686-3.46010-0.21000.h5\n",
      "34/34 [==============================] - 207s 6s/step - loss: 0.8988 - categorical_accuracy: 0.6569 - val_loss: 3.4601 - val_categorical_accuracy: 0.2100 - lr: 0.0010\n",
      "Epoch 5/22\n",
      "34/34 [==============================] - ETA: 0s - loss: 0.8732 - categorical_accuracy: 0.6772\n",
      "Epoch 00005: saving model to model_init_2024-01-0306_24_43.812973/model-00005-0.87318-0.67722-4.38903-0.18000.h5\n",
      "34/34 [==============================] - 211s 6s/step - loss: 0.8732 - categorical_accuracy: 0.6772 - val_loss: 4.3890 - val_categorical_accuracy: 0.1800 - lr: 0.0010\n",
      "Epoch 6/22\n",
      "34/34 [==============================] - ETA: 0s - loss: 0.6730 - categorical_accuracy: 0.7541\n",
      "Epoch 00006: saving model to model_init_2024-01-0306_24_43.812973/model-00006-0.67296-0.75415-4.30032-0.21000.h5\n",
      "\n",
      "Epoch 00006: ReduceLROnPlateau reducing learning rate to 0.00020000000949949026.\n",
      "34/34 [==============================] - 220s 7s/step - loss: 0.6730 - categorical_accuracy: 0.7541 - val_loss: 4.3003 - val_categorical_accuracy: 0.2100 - lr: 0.0010\n",
      "Epoch 7/22\n",
      "34/34 [==============================] - ETA: 0s - loss: 0.5020 - categorical_accuracy: 0.8160\n",
      "Epoch 00007: saving model to model_init_2024-01-0306_24_43.812973/model-00007-0.50200-0.81599-4.24989-0.22000.h5\n",
      "34/34 [==============================] - 222s 7s/step - loss: 0.5020 - categorical_accuracy: 0.8160 - val_loss: 4.2499 - val_categorical_accuracy: 0.2200 - lr: 2.0000e-04\n",
      "Epoch 8/22\n",
      "34/34 [==============================] - ETA: 0s - loss: 0.3670 - categorical_accuracy: 0.8718\n",
      "Epoch 00008: saving model to model_init_2024-01-0306_24_43.812973/model-00008-0.36702-0.87179-4.39676-0.21000.h5\n",
      "34/34 [==============================] - 207s 6s/step - loss: 0.3670 - categorical_accuracy: 0.8718 - val_loss: 4.3968 - val_categorical_accuracy: 0.2100 - lr: 2.0000e-04\n",
      "Epoch 9/22\n",
      "34/34 [==============================] - ETA: 0s - loss: 0.3952 - categorical_accuracy: 0.8590\n",
      "Epoch 00009: saving model to model_init_2024-01-0306_24_43.812973/model-00009-0.39520-0.85897-4.27278-0.25000.h5\n",
      "34/34 [==============================] - 197s 6s/step - loss: 0.3952 - categorical_accuracy: 0.8590 - val_loss: 4.2728 - val_categorical_accuracy: 0.2500 - lr: 2.0000e-04\n",
      "Epoch 10/22\n",
      "34/34 [==============================] - ETA: 0s - loss: 0.3352 - categorical_accuracy: 0.8718\n",
      "Epoch 00010: saving model to model_init_2024-01-0306_24_43.812973/model-00010-0.33523-0.87179-3.84670-0.23000.h5\n",
      "\n",
      "Epoch 00010: ReduceLROnPlateau reducing learning rate to 4.0000001899898055e-05.\n",
      "34/34 [==============================] - 202s 6s/step - loss: 0.3352 - categorical_accuracy: 0.8718 - val_loss: 3.8467 - val_categorical_accuracy: 0.2300 - lr: 2.0000e-04\n",
      "Epoch 11/22\n",
      "34/34 [==============================] - ETA: 0s - loss: 0.3188 - categorical_accuracy: 0.8884\n",
      "Epoch 00011: saving model to model_init_2024-01-0306_24_43.812973/model-00011-0.31879-0.88839-4.05073-0.22000.h5\n",
      "34/34 [==============================] - 202s 6s/step - loss: 0.3188 - categorical_accuracy: 0.8884 - val_loss: 4.0507 - val_categorical_accuracy: 0.2200 - lr: 4.0000e-05\n",
      "Epoch 12/22\n",
      "34/34 [==============================] - ETA: 0s - loss: 0.2923 - categorical_accuracy: 0.8944\n",
      "Epoch 00012: saving model to model_init_2024-01-0306_24_43.812973/model-00012-0.29234-0.89442-3.72642-0.27000.h5\n",
      "34/34 [==============================] - 200s 6s/step - loss: 0.2923 - categorical_accuracy: 0.8944 - val_loss: 3.7264 - val_categorical_accuracy: 0.2700 - lr: 4.0000e-05\n",
      "Epoch 13/22\n",
      "34/34 [==============================] - ETA: 0s - loss: 0.2823 - categorical_accuracy: 0.8974\n",
      "Epoch 00013: saving model to model_init_2024-01-0306_24_43.812973/model-00013-0.28226-0.89744-3.35168-0.25000.h5\n",
      "34/34 [==============================] - 198s 6s/step - loss: 0.2823 - categorical_accuracy: 0.8974 - val_loss: 3.3517 - val_categorical_accuracy: 0.2500 - lr: 4.0000e-05\n",
      "Epoch 14/22\n",
      "34/34 [==============================] - ETA: 0s - loss: 0.2646 - categorical_accuracy: 0.9133\n",
      "Epoch 00014: saving model to model_init_2024-01-0306_24_43.812973/model-00014-0.26464-0.91327-2.54972-0.35000.h5\n",
      "34/34 [==============================] - 199s 6s/step - loss: 0.2646 - categorical_accuracy: 0.9133 - val_loss: 2.5497 - val_categorical_accuracy: 0.3500 - lr: 4.0000e-05\n",
      "Epoch 15/22\n",
      "34/34 [==============================] - ETA: 0s - loss: 0.3285 - categorical_accuracy: 0.8884\n",
      "Epoch 00015: saving model to model_init_2024-01-0306_24_43.812973/model-00015-0.32851-0.88839-2.36507-0.45000.h5\n",
      "34/34 [==============================] - 210s 6s/step - loss: 0.3285 - categorical_accuracy: 0.8884 - val_loss: 2.3651 - val_categorical_accuracy: 0.4500 - lr: 4.0000e-05\n",
      "Epoch 16/22\n",
      "34/34 [==============================] - ETA: 0s - loss: 0.2919 - categorical_accuracy: 0.8952\n",
      "Epoch 00016: saving model to model_init_2024-01-0306_24_43.812973/model-00016-0.29192-0.89517-2.11391-0.45000.h5\n",
      "34/34 [==============================] - 192s 6s/step - loss: 0.2919 - categorical_accuracy: 0.8952 - val_loss: 2.1139 - val_categorical_accuracy: 0.4500 - lr: 4.0000e-05\n",
      "Epoch 17/22\n",
      "34/34 [==============================] - ETA: 0s - loss: 0.2408 - categorical_accuracy: 0.9163\n",
      "Epoch 00017: saving model to model_init_2024-01-0306_24_43.812973/model-00017-0.24084-0.91629-1.74606-0.50000.h5\n",
      "34/34 [==============================] - 186s 6s/step - loss: 0.2408 - categorical_accuracy: 0.9163 - val_loss: 1.7461 - val_categorical_accuracy: 0.5000 - lr: 4.0000e-05\n",
      "Epoch 18/22\n",
      "34/34 [==============================] - ETA: 0s - loss: 0.2666 - categorical_accuracy: 0.9103\n",
      "Epoch 00018: saving model to model_init_2024-01-0306_24_43.812973/model-00018-0.26655-0.91026-1.49586-0.57000.h5\n",
      "34/34 [==============================] - 187s 6s/step - loss: 0.2666 - categorical_accuracy: 0.9103 - val_loss: 1.4959 - val_categorical_accuracy: 0.5700 - lr: 4.0000e-05\n",
      "Epoch 19/22\n",
      "34/34 [==============================] - ETA: 0s - loss: 0.2637 - categorical_accuracy: 0.9140\n",
      "Epoch 00019: saving model to model_init_2024-01-0306_24_43.812973/model-00019-0.26374-0.91403-1.41272-0.56000.h5\n",
      "34/34 [==============================] - 185s 6s/step - loss: 0.2637 - categorical_accuracy: 0.9140 - val_loss: 1.4127 - val_categorical_accuracy: 0.5600 - lr: 4.0000e-05\n",
      "Epoch 20/22\n",
      "34/34 [==============================] - ETA: 0s - loss: 0.2437 - categorical_accuracy: 0.9125\n",
      "Epoch 00020: saving model to model_init_2024-01-0306_24_43.812973/model-00020-0.24375-0.91252-1.30348-0.59000.h5\n",
      "34/34 [==============================] - 187s 6s/step - loss: 0.2437 - categorical_accuracy: 0.9125 - val_loss: 1.3035 - val_categorical_accuracy: 0.5900 - lr: 4.0000e-05\n",
      "Epoch 21/22\n",
      "34/34 [==============================] - ETA: 0s - loss: 0.2405 - categorical_accuracy: 0.9231\n",
      "Epoch 00021: saving model to model_init_2024-01-0306_24_43.812973/model-00021-0.24047-0.92308-1.13756-0.59000.h5\n",
      "34/34 [==============================] - 276s 8s/step - loss: 0.2405 - categorical_accuracy: 0.9231 - val_loss: 1.1376 - val_categorical_accuracy: 0.5900 - lr: 4.0000e-05\n",
      "Epoch 22/22\n",
      "34/34 [==============================] - ETA: 0s - loss: 0.2365 - categorical_accuracy: 0.9140\n",
      "Epoch 00022: saving model to model_init_2024-01-0306_24_43.812973/model-00022-0.23647-0.91403-1.17824-0.59000.h5\n",
      "34/34 [==============================] - 247s 7s/step - loss: 0.2365 - categorical_accuracy: 0.9140 - val_loss: 1.1782 - val_categorical_accuracy: 0.5900 - lr: 4.0000e-05\n"
     ]
    }
   ],
   "source": [
    "print(\"Total Params:\", conv_3d5_model.count_params())\n",
    "history_model5=conv_3d5.train_model(conv_3d5_model,augment_data=True)"
   ]
  },
  {
   "cell_type": "code",
   "execution_count": 20,
   "id": "16baa988",
   "metadata": {},
   "outputs": [
    {
     "data": {
      "image/png": "[encoded data removed]",
      "text/plain": [
       "<Figure size 1080x288 with 2 Axes>"
      ]
     },
     "metadata": {
      "needs_background": "light"
     },
     "output_type": "display_data"
    }
   ],
   "source": [
    "\n",
    "plot(history_model5)"
   ]
  },
  {
   "cell_type": "markdown",
   "id": "d4f46d2e",
   "metadata": {},
   "source": [
    "Model 6"
   ]
  },
  {
   "cell_type": "code",
   "execution_count": 8,
   "id": "d8085669",
   "metadata": {},
   "outputs": [],
   "source": [
    "class RNNCNN1(ModelBuilder):\n",
    "    \n",
    "    def define_model(self,lstm_cells=64,dense_neurons=64,dropout=0.25):\n",
    "\n",
    "        model = Sequential()\n",
    "\n",
    "        model.add(TimeDistributed(Conv2D(16, (3, 3) , padding='same', activation='relu'),\n",
    "                                  input_shape=(self.frames_to_sample,self.image_height,self.image_width,self.channels)))\n",
    "        model.add(TimeDistributed(BatchNormalization()))\n",
    "        model.add(TimeDistributed(MaxPooling2D((2, 2))))\n",
    "        \n",
    "        model.add(TimeDistributed(Conv2D(32, (3, 3) , padding='same', activation='relu')))\n",
    "        model.add(TimeDistributed(BatchNormalization()))\n",
    "        model.add(TimeDistributed(MaxPooling2D((2, 2))))\n",
    "        \n",
    "        model.add(TimeDistributed(Conv2D(64, (3, 3) , padding='same', activation='relu')))\n",
    "        model.add(TimeDistributed(BatchNormalization()))\n",
    "        model.add(TimeDistributed(MaxPooling2D((2, 2))))\n",
    "        \n",
    "        model.add(TimeDistributed(Conv2D(128, (3, 3) , padding='same', activation='relu')))\n",
    "        model.add(TimeDistributed(BatchNormalization()))\n",
    "        model.add(TimeDistributed(MaxPooling2D((2, 2))))\n",
    "        \n",
    "        model.add(TimeDistributed(Conv2D(256, (3, 3) , padding='same', activation='relu')))\n",
    "        model.add(TimeDistributed(BatchNormalization()))\n",
    "        model.add(TimeDistributed(MaxPooling2D((2, 2))))\n",
    "    \n",
    "        model.add(TimeDistributed(Flatten()))\n",
    "\n",
    "\n",
    "        model.add(LSTM(lstm_cells))\n",
    "        model.add(Dropout(dropout))\n",
    "        \n",
    "        model.add(Dense(dense_neurons,activation='relu'))\n",
    "        model.add(Dropout(dropout))\n",
    "        \n",
    "        model.add(Dense(self.num_classes, activation='softmax'))\n",
    "        optimiser = Adam()\n",
    "        model.compile(optimizer=optimiser, loss='categorical_crossentropy', metrics=['categorical_accuracy'])\n",
    "        return model"
   ]
  },
  {
   "cell_type": "code",
   "execution_count": 9,
   "id": "36827551",
   "metadata": {},
   "outputs": [
    {
     "name": "stderr",
     "output_type": "stream",
     "text": [
      "2024-01-03 08:52:18.478483: W tensorflow/core/common_runtime/gpu/gpu_bfc_allocator.cc:39] Overriding allow_growth setting because the TF_FORCE_GPU_ALLOW_GROWTH environment variable is set. Original config value was 0.\n",
      "2024-01-03 08:52:18.478545: I tensorflow/core/common_runtime/gpu/gpu_device.cc:1525] Created device /job:localhost/replica:0/task:0/device:GPU:0 with 14800 MB memory:  -> device: 0, name: Quadro RTX 5000, pci bus id: 0000:1e:00.0, compute capability: 7.5\n"
     ]
    },
    {
     "name": "stdout",
     "output_type": "stream",
     "text": [
      "Model: \"sequential\"\n",
      "_________________________________________________________________\n",
      " Layer (type)                Output Shape              Param #   \n",
      "=================================================================\n",
      " time_distributed (TimeDistr  (None, 18, 120, 120, 16)  448      \n",
      " ibuted)                                                         \n",
      "                                                                 \n",
      " time_distributed_1 (TimeDis  (None, 18, 120, 120, 16)  64       \n",
      " tributed)                                                       \n",
      "                                                                 \n",
      " time_distributed_2 (TimeDis  (None, 18, 60, 60, 16)   0         \n",
      " tributed)                                                       \n",
      "                                                                 \n",
      " time_distributed_3 (TimeDis  (None, 18, 60, 60, 32)   4640      \n",
      " tributed)                                                       \n",
      "                                                                 \n",
      " time_distributed_4 (TimeDis  (None, 18, 60, 60, 32)   128       \n",
      " tributed)                                                       \n",
      "                                                                 \n",
      " time_distributed_5 (TimeDis  (None, 18, 30, 30, 32)   0         \n",
      " tributed)                                                       \n",
      "                                                                 \n",
      " time_distributed_6 (TimeDis  (None, 18, 30, 30, 64)   18496     \n",
      " tributed)                                                       \n",
      "                                                                 \n",
      " time_distributed_7 (TimeDis  (None, 18, 30, 30, 64)   256       \n",
      " tributed)                                                       \n",
      "                                                                 \n",
      " time_distributed_8 (TimeDis  (None, 18, 15, 15, 64)   0         \n",
      " tributed)                                                       \n",
      "                                                                 \n",
      " time_distributed_9 (TimeDis  (None, 18, 15, 15, 128)  73856     \n",
      " tributed)                                                       \n",
      "                                                                 \n",
      " time_distributed_10 (TimeDi  (None, 18, 15, 15, 128)  512       \n",
      " stributed)                                                      \n",
      "                                                                 \n",
      " time_distributed_11 (TimeDi  (None, 18, 7, 7, 128)    0         \n",
      " stributed)                                                      \n",
      "                                                                 \n",
      " time_distributed_12 (TimeDi  (None, 18, 7, 7, 256)    295168    \n",
      " stributed)                                                      \n",
      "                                                                 \n",
      " time_distributed_13 (TimeDi  (None, 18, 7, 7, 256)    1024      \n",
      " stributed)                                                      \n",
      "                                                                 \n",
      " time_distributed_14 (TimeDi  (None, 18, 3, 3, 256)    0         \n",
      " stributed)                                                      \n",
      "                                                                 \n",
      " time_distributed_15 (TimeDi  (None, 18, 2304)         0         \n",
      " stributed)                                                      \n",
      "                                                                 \n",
      " lstm (LSTM)                 (None, 128)               1245696   \n",
      "                                                                 \n",
      " dropout (Dropout)           (None, 128)               0         \n",
      "                                                                 \n",
      " dense (Dense)               (None, 128)               16512     \n",
      "                                                                 \n",
      " dropout_1 (Dropout)         (None, 128)               0         \n",
      "                                                                 \n",
      " dense_1 (Dense)             (None, 5)                 645       \n",
      "                                                                 \n",
      "=================================================================\n",
      "Total params: 1,657,445\n",
      "Trainable params: 1,656,453\n",
      "Non-trainable params: 992\n",
      "_________________________________________________________________\n"
     ]
    }
   ],
   "source": [
    "rnn_cnn1=RNNCNN1()\n",
    "rnn_cnn1.initialize_path(project_folder)\n",
    "rnn_cnn1.initialize_image_properties(image_height=120,image_width=120)\n",
    "rnn_cnn1.initialize_hyperparams(frames_to_sample=18,batch_size=20,num_epochs=20)\n",
    "rnn_cnn1_model=rnn_cnn1.define_model(lstm_cells=128,dense_neurons=128,dropout=0.25)\n",
    "rnn_cnn1_model.summary()"
   ]
  },
  {
   "cell_type": "code",
   "execution_count": 10,
   "id": "9567b930",
   "metadata": {},
   "outputs": [
    {
     "name": "stdout",
     "output_type": "stream",
     "text": [
      "Total Params: 1657445\n",
      "WARNING:tensorflow:`period` argument is deprecated. Please use `save_freq` to specify the frequency in number of batches seen.\n"
     ]
    },
    {
     "name": "stderr",
     "output_type": "stream",
     "text": [
      "/tmp/ipykernel_302/2327497117.py:122: UserWarning: `Model.fit_generator` is deprecated and will be removed in a future version. Please use `Model.fit`, which supports generators.\n",
      "  history=model.fit_generator(train_generator, steps_per_epoch=steps_per_epoch, epochs=self.num_epochs, verbose=1,\n"
     ]
    },
    {
     "name": "stdout",
     "output_type": "stream",
     "text": [
      "Epoch 1/20\n"
     ]
    },
    {
     "name": "stderr",
     "output_type": "stream",
     "text": [
      "2024-01-03 08:52:34.015322: I tensorflow/stream_executor/cuda/cuda_dnn.cc:377] Loaded cuDNN version 8302\n"
     ]
    },
    {
     "name": "stdout",
     "output_type": "stream",
     "text": [
      "34/34 [==============================] - ETA: 0s - loss: 1.3581 - categorical_accuracy: 0.4397\n",
      "Epoch 00001: saving model to model_init_2024-01-0308_52_19.877020/model-00001-1.35808-0.43967-1.76900-0.20000.h5\n",
      "34/34 [==============================] - 243s 7s/step - loss: 1.3581 - categorical_accuracy: 0.4397 - val_loss: 1.7690 - val_categorical_accuracy: 0.2000 - lr: 0.0010\n",
      "Epoch 2/20\n",
      "34/34 [==============================] - ETA: 0s - loss: 0.9653 - categorical_accuracy: 0.6267\n",
      "Epoch 00002: saving model to model_init_2024-01-0308_52_19.877020/model-00002-0.96535-0.62670-2.37412-0.14000.h5\n",
      "34/34 [==============================] - 295s 9s/step - loss: 0.9653 - categorical_accuracy: 0.6267 - val_loss: 2.3741 - val_categorical_accuracy: 0.1400 - lr: 0.0010\n",
      "Epoch 3/20\n",
      "34/34 [==============================] - ETA: 0s - loss: 0.8382 - categorical_accuracy: 0.6848\n",
      "Epoch 00003: saving model to model_init_2024-01-0308_52_19.877020/model-00003-0.83819-0.68477-2.21915-0.15000.h5\n",
      "34/34 [==============================] - 317s 10s/step - loss: 0.8382 - categorical_accuracy: 0.6848 - val_loss: 2.2191 - val_categorical_accuracy: 0.1500 - lr: 0.0010\n",
      "Epoch 4/20\n",
      "34/34 [==============================] - ETA: 0s - loss: 0.6572 - categorical_accuracy: 0.7647\n",
      "Epoch 00004: saving model to model_init_2024-01-0308_52_19.877020/model-00004-0.65716-0.76471-2.54120-0.22000.h5\n",
      "34/34 [==============================] - 299s 9s/step - loss: 0.6572 - categorical_accuracy: 0.7647 - val_loss: 2.5412 - val_categorical_accuracy: 0.2200 - lr: 0.0010\n",
      "Epoch 5/20\n",
      "34/34 [==============================] - ETA: 0s - loss: 0.6879 - categorical_accuracy: 0.7670\n",
      "Epoch 00005: saving model to model_init_2024-01-0308_52_19.877020/model-00005-0.68794-0.76697-2.57775-0.26000.h5\n",
      "\n",
      "Epoch 00005: ReduceLROnPlateau reducing learning rate to 0.00020000000949949026.\n",
      "34/34 [==============================] - 319s 10s/step - loss: 0.6879 - categorical_accuracy: 0.7670 - val_loss: 2.5778 - val_categorical_accuracy: 0.2600 - lr: 0.0010\n",
      "Epoch 6/20\n",
      "34/34 [==============================] - ETA: 0s - loss: 0.5040 - categorical_accuracy: 0.8318\n",
      "Epoch 00006: saving model to model_init_2024-01-0308_52_19.877020/model-00006-0.50404-0.83183-3.38068-0.21000.h5\n",
      "34/34 [==============================] - 316s 10s/step - loss: 0.5040 - categorical_accuracy: 0.8318 - val_loss: 3.3807 - val_categorical_accuracy: 0.2100 - lr: 2.0000e-04\n",
      "Epoch 7/20\n",
      "34/34 [==============================] - ETA: 0s - loss: 0.3832 - categorical_accuracy: 0.8778\n",
      "Epoch 00007: saving model to model_init_2024-01-0308_52_19.877020/model-00007-0.38316-0.87783-2.71443-0.24000.h5\n",
      "34/34 [==============================] - 361s 11s/step - loss: 0.3832 - categorical_accuracy: 0.8778 - val_loss: 2.7144 - val_categorical_accuracy: 0.2400 - lr: 2.0000e-04\n",
      "Epoch 8/20\n",
      "34/34 [==============================] - ETA: 0s - loss: 0.2939 - categorical_accuracy: 0.9193 \n",
      "Epoch 00008: saving model to model_init_2024-01-0308_52_19.877020/model-00008-0.29395-0.91931-3.04253-0.21000.h5\n",
      "34/34 [==============================] - 394s 12s/step - loss: 0.2939 - categorical_accuracy: 0.9193 - val_loss: 3.0425 - val_categorical_accuracy: 0.2100 - lr: 2.0000e-04\n",
      "Epoch 9/20\n",
      "34/34 [==============================] - ETA: 0s - loss: 0.2457 - categorical_accuracy: 0.9201 \n",
      "Epoch 00009: saving model to model_init_2024-01-0308_52_19.877020/model-00009-0.24572-0.92006-3.01904-0.28000.h5\n",
      "\n",
      "Epoch 00009: ReduceLROnPlateau reducing learning rate to 4.0000001899898055e-05.\n",
      "34/34 [==============================] - 430s 13s/step - loss: 0.2457 - categorical_accuracy: 0.9201 - val_loss: 3.0190 - val_categorical_accuracy: 0.2800 - lr: 2.0000e-04\n",
      "Epoch 10/20\n",
      "34/34 [==============================] - ETA: 0s - loss: 0.2116 - categorical_accuracy: 0.9442\n",
      "Epoch 00010: saving model to model_init_2024-01-0308_52_19.877020/model-00010-0.21158-0.94419-2.82570-0.31000.h5\n",
      "34/34 [==============================] - 332s 10s/step - loss: 0.2116 - categorical_accuracy: 0.9442 - val_loss: 2.8257 - val_categorical_accuracy: 0.3100 - lr: 4.0000e-05\n",
      "Epoch 11/20\n",
      "34/34 [==============================] - ETA: 0s - loss: 0.2016 - categorical_accuracy: 0.9427\n",
      "Epoch 00011: saving model to model_init_2024-01-0308_52_19.877020/model-00011-0.20157-0.94268-2.40845-0.36000.h5\n",
      "34/34 [==============================] - 271s 8s/step - loss: 0.2016 - categorical_accuracy: 0.9427 - val_loss: 2.4084 - val_categorical_accuracy: 0.3600 - lr: 4.0000e-05\n",
      "Epoch 12/20\n",
      "34/34 [==============================] - ETA: 0s - loss: 0.1638 - categorical_accuracy: 0.9608\n",
      "Epoch 00012: saving model to model_init_2024-01-0308_52_19.877020/model-00012-0.16379-0.96078-2.05483-0.39000.h5\n",
      "34/34 [==============================] - 261s 8s/step - loss: 0.1638 - categorical_accuracy: 0.9608 - val_loss: 2.0548 - val_categorical_accuracy: 0.3900 - lr: 4.0000e-05\n",
      "Epoch 13/20\n",
      "34/34 [==============================] - ETA: 0s - loss: 0.1753 - categorical_accuracy: 0.9525\n",
      "Epoch 00013: saving model to model_init_2024-01-0308_52_19.877020/model-00013-0.17531-0.95249-1.64666-0.52000.h5\n",
      "34/34 [==============================] - 259s 8s/step - loss: 0.1753 - categorical_accuracy: 0.9525 - val_loss: 1.6467 - val_categorical_accuracy: 0.5200 - lr: 4.0000e-05\n",
      "Epoch 14/20\n",
      "34/34 [==============================] - ETA: 0s - loss: 0.1777 - categorical_accuracy: 0.9495\n",
      "Epoch 00014: saving model to model_init_2024-01-0308_52_19.877020/model-00014-0.17766-0.94947-1.03941-0.62000.h5\n",
      "34/34 [==============================] - 283s 9s/step - loss: 0.1777 - categorical_accuracy: 0.9495 - val_loss: 1.0394 - val_categorical_accuracy: 0.6200 - lr: 4.0000e-05\n",
      "Epoch 15/20\n",
      "34/34 [==============================] - ETA: 0s - loss: 0.1606 - categorical_accuracy: 0.9585\n",
      "Epoch 00015: saving model to model_init_2024-01-0308_52_19.877020/model-00015-0.16062-0.95852-1.08835-0.70000.h5\n",
      "34/34 [==============================] - 274s 8s/step - loss: 0.1606 - categorical_accuracy: 0.9585 - val_loss: 1.0883 - val_categorical_accuracy: 0.7000 - lr: 4.0000e-05\n",
      "Epoch 16/20\n",
      "34/34 [==============================] - ETA: 0s - loss: 0.1729 - categorical_accuracy: 0.9585\n",
      "Epoch 00016: saving model to model_init_2024-01-0308_52_19.877020/model-00016-0.17293-0.95852-0.65673-0.79000.h5\n",
      "34/34 [==============================] - 276s 8s/step - loss: 0.1729 - categorical_accuracy: 0.9585 - val_loss: 0.6567 - val_categorical_accuracy: 0.7900 - lr: 4.0000e-05\n",
      "Epoch 17/20\n",
      "34/34 [==============================] - ETA: 0s - loss: 0.1549 - categorical_accuracy: 0.9600\n",
      "Epoch 00017: saving model to model_init_2024-01-0308_52_19.877020/model-00017-0.15493-0.96003-0.57325-0.81000.h5\n",
      "34/34 [==============================] - 262s 8s/step - loss: 0.1549 - categorical_accuracy: 0.9600 - val_loss: 0.5732 - val_categorical_accuracy: 0.8100 - lr: 4.0000e-05\n",
      "Epoch 18/20\n",
      "34/34 [==============================] - ETA: 0s - loss: 0.1355 - categorical_accuracy: 0.9668\n",
      "Epoch 00018: saving model to model_init_2024-01-0308_52_19.877020/model-00018-0.13551-0.96682-0.41772-0.87000.h5\n",
      "34/34 [==============================] - 282s 9s/step - loss: 0.1355 - categorical_accuracy: 0.9668 - val_loss: 0.4177 - val_categorical_accuracy: 0.8700 - lr: 4.0000e-05\n",
      "Epoch 19/20\n",
      "34/34 [==============================] - ETA: 0s - loss: 0.1161 - categorical_accuracy: 0.9796\n",
      "Epoch 00019: saving model to model_init_2024-01-0308_52_19.877020/model-00019-0.11612-0.97964-0.49879-0.80000.h5\n",
      "34/34 [==============================] - 252s 8s/step - loss: 0.1161 - categorical_accuracy: 0.9796 - val_loss: 0.4988 - val_categorical_accuracy: 0.8000 - lr: 4.0000e-05\n",
      "Epoch 20/20\n",
      "34/34 [==============================] - ETA: 0s - loss: 0.1241 - categorical_accuracy: 0.9729\n",
      "Epoch 00020: saving model to model_init_2024-01-0308_52_19.877020/model-00020-0.12408-0.97285-0.31178-0.89000.h5\n",
      "34/34 [==============================] - 293s 9s/step - loss: 0.1241 - categorical_accuracy: 0.9729 - val_loss: 0.3118 - val_categorical_accuracy: 0.8900 - lr: 4.0000e-05\n"
     ]
    }
   ],
   "source": [
    "print(\"Total Params:\", rnn_cnn1_model.count_params())\n",
    "history_model6=rnn_cnn1.train_model(rnn_cnn1_model,augment_data=True)"
   ]
  },
  {
   "cell_type": "code",
   "execution_count": null,
   "id": "e218cade",
   "metadata": {},
   "outputs": [
    {
     "data": {
      "image/png": "[encoded data removed]",
      "text/plain": [
       "<Figure size 1080x288 with 2 Axes>"
      ]
     },
     "metadata": {
      "needs_background": "light"
     },
     "output_type": "display_data"
    }
   ],
   "source": [
    "\n",
    "plot(history_model6)"
   ]
  },
  {
   "cell_type": "raw",
   "id": "7792dd1f",
   "metadata": {},
   "source": []
  },
  {
   "cell_type": "markdown",
   "id": "fb4b6d4f",
   "metadata": {},
   "source": [
    "## Final Modal Details Consolidated\n",
    "\n"
   ]
  },
  {
   "cell_type": "markdown",
   "id": "54e7aab7",
   "metadata": {},
   "source": [
    "Consolidating the results of all the models created so far. "
   ]
  },
  {
   "cell_type": "markdown",
   "id": "36b90851",
   "metadata": {},
   "source": [
    "Model 1 -  Training Accuracy : 0.98   | Validation Accuracy : 0.26    | Paramaters :  11,17,061\n",
    "\n",
    "Model 2 -  Training Accuracy : 0.88   | Validation Accuracy : 0.84    | Paramaters :  36,38,981\n",
    "\n",
    "Model 3 -  Training Accuracy : 0.73   | Validation Accuracy : 0.80    | Paramaters :  17,62,613\n",
    "\n",
    "Model 4 -  Training Accuracy : 0.88   | Validation Accuracy : 0.85    | Paramaters :  25,56,533\n",
    "\n",
    "Model 5 -  Training Accuracy : 0.91   | Validation Accuracy : 0.59    | Paramaters :  25,56,533\n",
    "\n",
    "Model 6 -  Training Accuracy : 0.97   | Validation Accuracy : 0.89    |  Paramaters : 16,57,445"
   ]
  },
  {
   "cell_type": "markdown",
   "id": "5f6888d7",
   "metadata": {},
   "source": [
    "## Conclusion \n",
    "\n",
    "We can see that Model 1 was very inaccurate with the lowerst validation accuracy but as the models progressed we did see a good improvement in the accuracy consistantly.\n",
    "The objective was to pick a model with the least paramaters and still having the highest accuracy and looks like model 6 satisfies both criterias\n",
    "\n",
    "Model 6 is having the second least number of paramaters (the lowest being Model 1 but is very inaccurate) and has a training accuracy of 97 % and Validation accuracy of 89% which looks to be very good"
   ]
  },
  {
   "cell_type": "code",
   "execution_count": null,
   "id": "5478cae0",
   "metadata": {},
   "outputs": [],
   "source": []
  }
 ],
 "metadata": {
  "kernelspec": {
   "display_name": "Python 3 (ipykernel)",
   "language": "python",
   "name": "python3"
  },
  "language_info": {
   "codemirror_mode": {
    "name": "ipython",
    "version": 3
   },
   "file_extension": ".py",
   "mimetype": "text/x-python",
   "name": "python",
   "nbconvert_exporter": "python",
   "pygments_lexer": "ipython3",
   "version": "3.8.10"
  }
 },
 "nbformat": 4,
 "nbformat_minor": 5
}
